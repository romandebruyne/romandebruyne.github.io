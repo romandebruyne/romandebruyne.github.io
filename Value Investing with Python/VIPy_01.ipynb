{
 "cells": [
  {
   "cell_type": "markdown",
   "id": "4b231b0b",
   "metadata": {},
   "source": [
    "# Value Investing with Python - Part 01"
   ]
  },
  {
   "cell_type": "markdown",
   "id": "41afa3fd",
   "metadata": {},
   "source": [
    "The first part of the **Value Investing with Python**-series contains a function to obtain a brief company profile, including the company's name, the market capitalization as well as a short business summary. The main part of the function consists of utilizing the `yfinance` module, which is able to scrape data from yahoo finance.\n",
    "<br><br>\n",
    "The function has one input (*stock_ticker*) that is equivalent to stock's ticker symbol as stated on yahoo finance. It outputs the collected information to the screen."
   ]
  },
  {
   "cell_type": "code",
   "execution_count": 2,
   "id": "e2363ea8",
   "metadata": {},
   "outputs": [],
   "source": [
    "def company_profile(stock_ticker):\n",
    "    \n",
    "    # Import required modules:\n",
    "    import yfinance as yf\n",
    "    \n",
    "    # Create yfinance information object:\n",
    "    company_yfinance_object = yf.Ticker(stock_ticker).info\n",
    "    \n",
    "    # Select and print relevant information:\n",
    "    print(f\"Company name: {company_yfinance_object['longName']}\")\n",
    "    print(f\"Headquarter: {company_yfinance_object['city']}, {company_yfinance_object['country']}\")\n",
    "    print(f\"Sector: {company_yfinance_object['sector']}\")\n",
    "    print(f\"Industry: {company_yfinance_object['industry']}\")\n",
    "    print(f\"Employees: {company_yfinance_object['fullTimeEmployees']:,.0f}\")\n",
    "    print(f\"Market cap.: {company_yfinance_object['marketCap']:,.0f} {company_yfinance_object['financialCurrency']}\")\n",
    "    print(\"\")\n",
    "    print(f\"Business summary:\")\n",
    "    print(company_yfinance_object['longBusinessSummary'])"
   ]
  },
  {
   "cell_type": "markdown",
   "id": "c59ca1ae",
   "metadata": {},
   "source": [
    "Example:"
   ]
  },
  {
   "cell_type": "code",
   "execution_count": 3,
   "id": "5f7423c5",
   "metadata": {},
   "outputs": [
    {
     "name": "stdout",
     "output_type": "stream",
     "text": [
      "Company name: Apple Inc.\n",
      "Headquarter: Cupertino, United States\n",
      "Sector: Technology\n",
      "Industry: Consumer Electronics\n",
      "Employees: 154,000\n",
      "Market cap.: 2,191,961,489,408 USD\n",
      "\n",
      "Business summary:\n",
      "Apple Inc. designs, manufactures, and markets smartphones, personal computers, tablets, wearables, and accessories worldwide. It also sells various related services. In addition, the company offers iPhone, a line of smartphones; Mac, a line of personal computers; iPad, a line of multi-purpose tablets; AirPods Max, an over-ear wireless headphone; and wearables, home, and accessories comprising AirPods, Apple TV, Apple Watch, Beats products, HomePod, and iPod touch. Further, it provides AppleCare support services; cloud services store services; and operates various platforms, including the App Store that allow customers to discover and download applications and digital content, such as books, music, video, games, and podcasts. Additionally, the company offers various services, such as Apple Arcade, a game subscription service; Apple Music, which offers users a curated listening experience with on-demand radio stations; Apple News+, a subscription news and magazine service; Apple TV+, which offers exclusive original content; Apple Card, a co-branded credit card; and Apple Pay, a cashless payment service, as well as licenses its intellectual property. The company serves consumers, and small and mid-sized businesses; and the education, enterprise, and government markets. It distributes third-party applications for its products through the App Store. The company also sells its products through its retail and online stores, and direct sales force; and third-party cellular network carriers, wholesalers, retailers, and resellers. Apple Inc. was incorporated in 1977 and is headquartered in Cupertino, California.\n"
     ]
    }
   ],
   "source": [
    "company_profile(\"AAPL\")"
   ]
  }
 ],
 "metadata": {
  "kernelspec": {
   "display_name": "Python 3",
   "language": "python",
   "name": "python3"
  },
  "language_info": {
   "codemirror_mode": {
    "name": "ipython",
    "version": 3
   },
   "file_extension": ".py",
   "mimetype": "text/x-python",
   "name": "python",
   "nbconvert_exporter": "python",
   "pygments_lexer": "ipython3",
   "version": "3.8.8"
  }
 },
 "nbformat": 4,
 "nbformat_minor": 5
}
