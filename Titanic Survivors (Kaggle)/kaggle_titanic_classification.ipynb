{
 "cells": [
  {
   "cell_type": "markdown",
   "id": "40fd8304",
   "metadata": {},
   "source": [
    "# Kaggle Competition - Titanic: Machine Learning from Disaster"
   ]
  },
  {
   "cell_type": "markdown",
   "id": "6ec71164",
   "metadata": {},
   "source": [
    "## Introduction"
   ]
  },
  {
   "cell_type": "markdown",
   "id": "52ef3cc7",
   "metadata": {},
   "source": [
    "The code in this notebook was created to participate in the `Titanic: Machine Learning from Disaster` competition on `kaggle.com` (https://www.kaggle.com/competitions/titanic). To complete the task, current knowledge, the book `Introduction to Machine Leaning with Python` by Sandra Guido and Andreas C. Müller as well as the input from the huge amount of submitted code available on `kaggle.com` were used. Hence, I would like to thank everyone who submitted their project. Especially the following projects were very helpful:"
   ]
  },
  {
   "cell_type": "markdown",
   "id": "d1dd80e1",
   "metadata": {},
   "source": [
    "* https://www.kaggle.com/sinakhorami/titanic-best-working-classifier\n",
    "* https://www.kaggle.com/gunesevitan/titanic-advanced-feature-engineering-tutorial\n",
    "* https://www.kaggle.com/yassineghouzam/titanic-top-4-with-ensemble-modeling"
   ]
  },
  {
   "cell_type": "markdown",
   "id": "11d61e09",
   "metadata": {},
   "source": [
    "## Start of the project"
   ]
  },
  {
   "cell_type": "markdown",
   "id": "091fa651",
   "metadata": {},
   "source": [
    "### Import modules:"
   ]
  },
  {
   "cell_type": "code",
   "execution_count": 1,
   "id": "194c7442",
   "metadata": {},
   "outputs": [],
   "source": [
    "import numpy as np\n",
    "import pandas as pd"
   ]
  },
  {
   "cell_type": "code",
   "execution_count": 48,
   "id": "fc438b51",
   "metadata": {},
   "outputs": [],
   "source": [
    "import re"
   ]
  },
  {
   "cell_type": "code",
   "execution_count": 26,
   "id": "3dce88d0",
   "metadata": {},
   "outputs": [],
   "source": [
    "import matplotlib.pyplot as plt\n",
    "# import matplotlib.ticker as FormatStrFormatter\n",
    "import seaborn as sns"
   ]
  },
  {
   "cell_type": "code",
   "execution_count": 160,
   "id": "4fc383d5",
   "metadata": {},
   "outputs": [],
   "source": [
    "from sklearn.dummy import DummyClassifier\n",
    "from sklearn.neighbors import KNeighborsClassifier\n",
    "from sklearn.linear_model import LogisticRegression\n",
    "from sklearn.svm import LinearSVC\n",
    "from sklearn.naive_bayes import GaussianNB\n",
    "from sklearn.tree import DecisionTreeClassifier\n",
    "from sklearn.ensemble import RandomForestClassifier\n",
    "import xgboost as xgb\n",
    "from sklearn.ensemble import VotingClassifier\n",
    "from sklearn.model_selection import StratifiedKFold, cross_val_score, GridSearchCV\n",
    "from sklearn.metrics import accuracy_score, f1_score, confusion_matrix, classification_report"
   ]
  },
  {
   "cell_type": "markdown",
   "id": "82cb4b88",
   "metadata": {},
   "source": [
    "### Import data:"
   ]
  },
  {
   "cell_type": "code",
   "execution_count": 5,
   "id": "70e1425f",
   "metadata": {},
   "outputs": [],
   "source": [
    "train_dataset = pd.read_csv(\"train.csv\")\n",
    "test_dataset = pd.read_csv(\"test.csv\")"
   ]
  },
  {
   "cell_type": "code",
   "execution_count": 6,
   "id": "07d2caa8",
   "metadata": {},
   "outputs": [
    {
     "name": "stdout",
     "output_type": "stream",
     "text": [
      "['PassengerId', 'Survived', 'Pclass', 'Name', 'Sex', 'Age', 'SibSp', 'Parch', 'Ticket', 'Fare', 'Cabin', 'Embarked']\n",
      "['PassengerId', 'Pclass', 'Name', 'Sex', 'Age', 'SibSp', 'Parch', 'Ticket', 'Fare', 'Cabin', 'Embarked']\n"
     ]
    }
   ],
   "source": [
    "print(list(train_dataset.columns))\n",
    "print(list(test_dataset.columns))"
   ]
  },
  {
   "cell_type": "markdown",
   "id": "2ce6ca31",
   "metadata": {},
   "source": [
    "Test dataset lacks the feature/variable to predict:\n",
    "* `Survived`; binary: 0 = No, 1 = Yes"
   ]
  },
  {
   "cell_type": "markdown",
   "id": "c959c3c9",
   "metadata": {},
   "source": [
    "The dataset includes 9 independent features:\n",
    "* `PassengerId`: the passenger's ID\n",
    "* `Name`: the passenger's full name\n",
    "* `Sex`: the passenger's sex\n",
    "* `Age`: the passenger's age\n",
    "* `Pclass`: the passenger's ticket class\n",
    "* `Ticket`: ticket number\n",
    "* `Fare`: ticker fare\n",
    "* `Cabin`: cabin number\n",
    "* `SibSp`: number of siblings/spouses of the passenger aboard the Titanic\n",
    "* `Parch`: number of parents/children of the passenger aboard the Titanic\n",
    "* `Embarked`: port of embarkation"
   ]
  },
  {
   "cell_type": "markdown",
   "id": "d3b6ccfc",
   "metadata": {},
   "source": [
    "Combine the independent features of both training and test dataset to a complete dataset:"
   ]
  },
  {
   "cell_type": "code",
   "execution_count": 7,
   "id": "7761498e",
   "metadata": {},
   "outputs": [],
   "source": [
    "complete_dataset = pd.concat([train_dataset, test_dataset], axis = 0)"
   ]
  },
  {
   "cell_type": "code",
   "execution_count": 9,
   "id": "7a28d74e",
   "metadata": {},
   "outputs": [],
   "source": [
    "# complete_dataset"
   ]
  },
  {
   "cell_type": "markdown",
   "id": "fe263ee8",
   "metadata": {},
   "source": [
    "## Exploratory Data Analysis"
   ]
  },
  {
   "cell_type": "markdown",
   "id": "635b78c3",
   "metadata": {},
   "source": [
    "In the following, the datasets (training and test subsets) and its features are examined. This examination will include descriptive elements, data cleaning as well as feature engineering. I do begin with looking at the dependent feature. "
   ]
  },
  {
   "cell_type": "markdown",
   "id": "05f6f7f8",
   "metadata": {},
   "source": [
    "### Dependent feature `Survived`"
   ]
  },
  {
   "cell_type": "code",
   "execution_count": 10,
   "id": "8e8c7da7",
   "metadata": {},
   "outputs": [
    {
     "data": {
      "text/html": [
       "<div>\n",
       "<style scoped>\n",
       "    .dataframe tbody tr th:only-of-type {\n",
       "        vertical-align: middle;\n",
       "    }\n",
       "\n",
       "    .dataframe tbody tr th {\n",
       "        vertical-align: top;\n",
       "    }\n",
       "\n",
       "    .dataframe thead th {\n",
       "        text-align: right;\n",
       "    }\n",
       "</style>\n",
       "<table border=\"1\" class=\"dataframe\">\n",
       "  <thead>\n",
       "    <tr style=\"text-align: right;\">\n",
       "      <th></th>\n",
       "      <th>Count</th>\n",
       "      <th>Pct.</th>\n",
       "    </tr>\n",
       "  </thead>\n",
       "  <tbody>\n",
       "    <tr>\n",
       "      <th>0.0</th>\n",
       "      <td>549.0</td>\n",
       "      <td>62.0</td>\n",
       "    </tr>\n",
       "    <tr>\n",
       "      <th>1.0</th>\n",
       "      <td>342.0</td>\n",
       "      <td>38.0</td>\n",
       "    </tr>\n",
       "  </tbody>\n",
       "</table>\n",
       "</div>"
      ],
      "text/plain": [
       "     Count  Pct.\n",
       "0.0  549.0  62.0\n",
       "1.0  342.0  38.0"
      ]
     },
     "execution_count": 10,
     "metadata": {},
     "output_type": "execute_result"
    }
   ],
   "source": [
    "pd.DataFrame([complete_dataset[\"Survived\"].value_counts(ascending = False), \n",
    "              round(complete_dataset[\"Survived\"].value_counts(ascending = False, normalize = True) * 100, 0)],\n",
    "            index = [\"Count\", \"Pct.\"]).T"
   ]
  },
  {
   "cell_type": "markdown",
   "id": "0f2543e2",
   "metadata": {},
   "source": [
    "The majority of passengers (appr. 62 percent) did not survive the Titanic shipwreck. The label imbalance could lead to potential problems when evaluating the models' performances. I will keep that in mind."
   ]
  },
  {
   "cell_type": "markdown",
   "id": "b32119b8",
   "metadata": {},
   "source": [
    "### Independent features"
   ]
  },
  {
   "cell_type": "markdown",
   "id": "8bd43e14",
   "metadata": {},
   "source": [
    "Inspect the independent features with regards to their missing values:"
   ]
  },
  {
   "cell_type": "code",
   "execution_count": 11,
   "id": "bdea900f",
   "metadata": {},
   "outputs": [],
   "source": [
    "missings_total = complete_dataset.isna().sum().sort_values(ascending = False)\n",
    "missings_pct = round(missings_total / len(complete_dataset) * 100, 1)\n",
    "missings = pd.concat([missings_total, missings_pct], axis = 1, keys = [\"Total\", \"Pct\"])"
   ]
  },
  {
   "cell_type": "code",
   "execution_count": 12,
   "id": "e800824d",
   "metadata": {},
   "outputs": [
    {
     "data": {
      "text/html": [
       "<div>\n",
       "<style scoped>\n",
       "    .dataframe tbody tr th:only-of-type {\n",
       "        vertical-align: middle;\n",
       "    }\n",
       "\n",
       "    .dataframe tbody tr th {\n",
       "        vertical-align: top;\n",
       "    }\n",
       "\n",
       "    .dataframe thead th {\n",
       "        text-align: right;\n",
       "    }\n",
       "</style>\n",
       "<table border=\"1\" class=\"dataframe\">\n",
       "  <thead>\n",
       "    <tr style=\"text-align: right;\">\n",
       "      <th></th>\n",
       "      <th>Total</th>\n",
       "      <th>Pct</th>\n",
       "    </tr>\n",
       "  </thead>\n",
       "  <tbody>\n",
       "    <tr>\n",
       "      <th>Cabin</th>\n",
       "      <td>1014</td>\n",
       "      <td>77.5</td>\n",
       "    </tr>\n",
       "    <tr>\n",
       "      <th>Age</th>\n",
       "      <td>263</td>\n",
       "      <td>20.1</td>\n",
       "    </tr>\n",
       "    <tr>\n",
       "      <th>Embarked</th>\n",
       "      <td>2</td>\n",
       "      <td>0.2</td>\n",
       "    </tr>\n",
       "    <tr>\n",
       "      <th>Fare</th>\n",
       "      <td>1</td>\n",
       "      <td>0.1</td>\n",
       "    </tr>\n",
       "  </tbody>\n",
       "</table>\n",
       "</div>"
      ],
      "text/plain": [
       "          Total   Pct\n",
       "Cabin      1014  77.5\n",
       "Age         263  20.1\n",
       "Embarked      2   0.2\n",
       "Fare          1   0.1"
      ]
     },
     "execution_count": 12,
     "metadata": {},
     "output_type": "execute_result"
    }
   ],
   "source": [
    "missings[(missings[\"Pct\"] > 0) & (missings.index != \"Survived\")]"
   ]
  },
  {
   "cell_type": "markdown",
   "id": "7195a985",
   "metadata": {},
   "source": [
    "The feature `Cabin` lacks a lot of data points as almost 80 percent are missing values. Therefore, one has to decide whether to drop the feature or to search for appropriate replacement values. `Age` has 20 percent of its values missing, which is uncritical and easy to handle (e.g. by imputing the missing values with the median age). The missings for features `Embarked` and `Fare` are not worth mentioning."
   ]
  },
  {
   "cell_type": "markdown",
   "id": "870c2baf",
   "metadata": {},
   "source": [
    "#### Cabin"
   ]
  },
  {
   "cell_type": "code",
   "execution_count": 13,
   "id": "8e5d53a0",
   "metadata": {},
   "outputs": [
    {
     "data": {
      "text/plain": [
       "array([nan, 'C85', 'C123', 'E46', 'G6', 'C103', 'D56', 'A6',\n",
       "       'C23 C25 C27', 'B78', 'D33', 'B30', 'C52', 'B28', 'C83', 'F33',\n",
       "       'F G73', 'E31', 'A5', 'D10 D12', 'D26', 'C110', 'B58 B60', 'E101',\n",
       "       'F E69', 'D47', 'B86', 'F2', 'C2', 'E33', 'B19', 'A7', 'C49', 'F4',\n",
       "       'A32', 'B4', 'B80', 'A31', 'D36', 'D15', 'C93', 'C78', 'D35',\n",
       "       'C87', 'B77', 'E67', 'B94', 'C125', 'C99', 'C118', 'D7', 'A19',\n",
       "       'B49', 'D', 'C22 C26', 'C106', 'C65', 'E36', 'C54',\n",
       "       'B57 B59 B63 B66', 'C7', 'E34', 'C32', 'B18', 'C124', 'C91', 'E40',\n",
       "       'T', 'C128', 'D37', 'B35', 'E50', 'C82', 'B96 B98', 'E10', 'E44',\n",
       "       'A34', 'C104', 'C111', 'C92', 'E38', 'D21', 'E12', 'E63', 'A14',\n",
       "       'B37', 'C30', 'D20', 'B79', 'E25', 'D46', 'B73', 'C95', 'B38',\n",
       "       'B39', 'B22', 'C86', 'C70', 'A16', 'C101', 'C68', 'A10', 'E68',\n",
       "       'B41', 'A20', 'D19', 'D50', 'D9', 'A23', 'B50', 'A26', 'D48',\n",
       "       'E58', 'C126', 'B71', 'B51 B53 B55', 'D49', 'B5', 'B20', 'F G63',\n",
       "       'C62 C64', 'E24', 'C90', 'C45', 'E8', 'B101', 'D45', 'C46', 'D30',\n",
       "       'E121', 'D11', 'E77', 'F38', 'B3', 'D6', 'B82 B84', 'D17', 'A36',\n",
       "       'B102', 'B69', 'E49', 'C47', 'D28', 'E17', 'A24', 'C50', 'B42',\n",
       "       'C148', 'B45', 'B36', 'A21', 'D34', 'A9', 'C31', 'B61', 'C53',\n",
       "       'D43', 'C130', 'C132', 'C55 C57', 'C116', 'F', 'A29', 'C6', 'C28',\n",
       "       'C51', 'C97', 'D22', 'B10', 'E45', 'E52', 'A11', 'B11', 'C80',\n",
       "       'C89', 'F E46', 'B26', 'F E57', 'A18', 'E60', 'E39 E41',\n",
       "       'B52 B54 B56', 'C39', 'B24', 'D40', 'D38', 'C105'], dtype=object)"
      ]
     },
     "execution_count": 13,
     "metadata": {},
     "output_type": "execute_result"
    }
   ],
   "source": [
    "complete_dataset[\"Cabin\"].unique()"
   ]
  },
  {
   "cell_type": "markdown",
   "id": "420699f1",
   "metadata": {},
   "source": [
    "The feature contains strings which represent the cabin number. As stated on Wikipedia (`https://en.wikipedia.org/wiki/Titanic`), the letter indicates the **deck** on which the cabin was located."
   ]
  },
  {
   "cell_type": "markdown",
   "id": "af008e47",
   "metadata": {},
   "source": [
    "One potential idea to impute the missing values is to use the `Pclass` feature, which shows to which price class (first, second or third) the passengers belonged to. It could be argued that the price class directly relates to the cabin and its position on the ship. According to the Wikipedia article, however, some of the decks (e.g. the D and E deck) were shared by passengers of all price classes. This is also evident in the data. First, a new feature called **Deck** is created: "
   ]
  },
  {
   "cell_type": "code",
   "execution_count": 16,
   "id": "3d0553d2",
   "metadata": {},
   "outputs": [],
   "source": [
    "complete_dataset[\"Deck\"] = complete_dataset[\"Cabin\"].apply(lambda row: row[0] if isinstance(row, str) else row)"
   ]
  },
  {
   "cell_type": "markdown",
   "id": "4851e67d",
   "metadata": {},
   "source": [
    "Next, I do look at the mean price class for each deck to check whether the **Deck** feature can be used to approximate the cabin (position):"
   ]
  },
  {
   "cell_type": "code",
   "execution_count": 19,
   "id": "7f661aef",
   "metadata": {},
   "outputs": [
    {
     "data": {
      "text/html": [
       "<div>\n",
       "<style scoped>\n",
       "    .dataframe tbody tr th:only-of-type {\n",
       "        vertical-align: middle;\n",
       "    }\n",
       "\n",
       "    .dataframe tbody tr th {\n",
       "        vertical-align: top;\n",
       "    }\n",
       "\n",
       "    .dataframe thead th {\n",
       "        text-align: right;\n",
       "    }\n",
       "</style>\n",
       "<table border=\"1\" class=\"dataframe\">\n",
       "  <thead>\n",
       "    <tr style=\"text-align: right;\">\n",
       "      <th></th>\n",
       "      <th>Deck</th>\n",
       "      <th>Pclass</th>\n",
       "    </tr>\n",
       "  </thead>\n",
       "  <tbody>\n",
       "    <tr>\n",
       "      <th>0</th>\n",
       "      <td>A</td>\n",
       "      <td>1.000000</td>\n",
       "    </tr>\n",
       "    <tr>\n",
       "      <th>1</th>\n",
       "      <td>B</td>\n",
       "      <td>1.000000</td>\n",
       "    </tr>\n",
       "    <tr>\n",
       "      <th>2</th>\n",
       "      <td>C</td>\n",
       "      <td>1.000000</td>\n",
       "    </tr>\n",
       "    <tr>\n",
       "      <th>3</th>\n",
       "      <td>D</td>\n",
       "      <td>1.130435</td>\n",
       "    </tr>\n",
       "    <tr>\n",
       "      <th>4</th>\n",
       "      <td>E</td>\n",
       "      <td>1.243902</td>\n",
       "    </tr>\n",
       "    <tr>\n",
       "      <th>5</th>\n",
       "      <td>F</td>\n",
       "      <td>2.380952</td>\n",
       "    </tr>\n",
       "    <tr>\n",
       "      <th>6</th>\n",
       "      <td>G</td>\n",
       "      <td>3.000000</td>\n",
       "    </tr>\n",
       "    <tr>\n",
       "      <th>7</th>\n",
       "      <td>T</td>\n",
       "      <td>1.000000</td>\n",
       "    </tr>\n",
       "  </tbody>\n",
       "</table>\n",
       "</div>"
      ],
      "text/plain": [
       "  Deck    Pclass\n",
       "0    A  1.000000\n",
       "1    B  1.000000\n",
       "2    C  1.000000\n",
       "3    D  1.130435\n",
       "4    E  1.243902\n",
       "5    F  2.380952\n",
       "6    G  3.000000\n",
       "7    T  1.000000"
      ]
     },
     "execution_count": 19,
     "metadata": {},
     "output_type": "execute_result"
    }
   ],
   "source": [
    "complete_dataset[[\"Deck\", \"Pclass\"]].groupby(\"Deck\", as_index = False).mean()"
   ]
  },
  {
   "cell_type": "markdown",
   "id": "c6eb7c7d",
   "metadata": {},
   "source": [
    "The mean values for the decks D, E and F indicate that these decks were shared by at least two price classes. Hence, we will drop the newly created \"Deck\" as well as the \"Cabin\" features (after finishing the examination of all features). "
   ]
  },
  {
   "cell_type": "markdown",
   "id": "47c2450f",
   "metadata": {},
   "source": [
    "#### Pclass"
   ]
  },
  {
   "cell_type": "markdown",
   "id": "43b5d2bf",
   "metadata": {},
   "source": [
    "As already stated, this feature contains information on the price class the passengers belonged to:"
   ]
  },
  {
   "cell_type": "code",
   "execution_count": 20,
   "id": "7ec874d9",
   "metadata": {},
   "outputs": [
    {
     "data": {
      "text/plain": [
       "1    24.675325\n",
       "2    21.161192\n",
       "3    54.163484\n",
       "Name: Pclass, dtype: float64"
      ]
     },
     "execution_count": 20,
     "metadata": {},
     "output_type": "execute_result"
    }
   ],
   "source": [
    "complete_dataset[\"Pclass\"].value_counts(sort = False, normalize = True) * 100"
   ]
  },
  {
   "cell_type": "markdown",
   "id": "a289d95e",
   "metadata": {},
   "source": [
    "As expected, most of the passengers were travelling in third class (appr. 54 percent). Next, I do examine the relation between `Pclass` and `Survived`:"
   ]
  },
  {
   "cell_type": "code",
   "execution_count": 16,
   "id": "07f91a19",
   "metadata": {
    "scrolled": true
   },
   "outputs": [
    {
     "data": {
      "text/html": [
       "<div>\n",
       "<style scoped>\n",
       "    .dataframe tbody tr th:only-of-type {\n",
       "        vertical-align: middle;\n",
       "    }\n",
       "\n",
       "    .dataframe tbody tr th {\n",
       "        vertical-align: top;\n",
       "    }\n",
       "\n",
       "    .dataframe thead th {\n",
       "        text-align: right;\n",
       "    }\n",
       "</style>\n",
       "<table border=\"1\" class=\"dataframe\">\n",
       "  <thead>\n",
       "    <tr style=\"text-align: right;\">\n",
       "      <th></th>\n",
       "      <th>Pclass</th>\n",
       "      <th>Survived</th>\n",
       "    </tr>\n",
       "  </thead>\n",
       "  <tbody>\n",
       "    <tr>\n",
       "      <th>0</th>\n",
       "      <td>1</td>\n",
       "      <td>0.629630</td>\n",
       "    </tr>\n",
       "    <tr>\n",
       "      <th>1</th>\n",
       "      <td>2</td>\n",
       "      <td>0.472826</td>\n",
       "    </tr>\n",
       "    <tr>\n",
       "      <th>2</th>\n",
       "      <td>3</td>\n",
       "      <td>0.242363</td>\n",
       "    </tr>\n",
       "  </tbody>\n",
       "</table>\n",
       "</div>"
      ],
      "text/plain": [
       "   Pclass  Survived\n",
       "0       1  0.629630\n",
       "1       2  0.472826\n",
       "2       3  0.242363"
      ]
     },
     "execution_count": 16,
     "metadata": {},
     "output_type": "execute_result"
    }
   ],
   "source": [
    "complete_dataset[[\"Pclass\", \"Survived\"]].groupby(\"Pclass\", as_index = False).mean()"
   ]
  },
  {
   "cell_type": "markdown",
   "id": "071190fe",
   "metadata": {},
   "source": [
    "The results indicate that the price class has a huge impact on the survival. While most of the first class passengers (appr. 63 percent) survived, three quarters of all third class passenger did not survive the shipwreck. In the following, binary encoded dummy variables for each price class are created (*since the current ordering does not make sense from my point of view. The first class is the best class but receives a value of 1.*):"
   ]
  },
  {
   "cell_type": "code",
   "execution_count": 21,
   "id": "c34cfcd0",
   "metadata": {},
   "outputs": [],
   "source": [
    "complete_dataset[\"First_Class\"] = complete_dataset[\"Pclass\"].apply(lambda row: 1 if row == 1 else 0)\n",
    "complete_dataset[\"Second_Class\"] = complete_dataset[\"Pclass\"].apply(lambda row: 1 if row == 2 else 0)\n",
    "complete_dataset[\"Third_Class\"] = complete_dataset[\"Pclass\"].apply(lambda row: 1 if row == 3 else 0)"
   ]
  },
  {
   "cell_type": "markdown",
   "id": "bce2e69f",
   "metadata": {},
   "source": [
    "#### Age"
   ]
  },
  {
   "cell_type": "markdown",
   "id": "80ee85c8",
   "metadata": {},
   "source": [
    "This features contains the age (in years) of the passengers. As indicated on the competition webpage on `kaggle.com`, the age for passengers younger than 1 year is expressed as fraction. The missing values wil be imputed with the median (differentiated by sex):"
   ]
  },
  {
   "cell_type": "code",
   "execution_count": 22,
   "id": "90a46931",
   "metadata": {},
   "outputs": [],
   "source": [
    "complete_dataset[\"Age\"] = complete_dataset.groupby(\"Sex\")[\"Age\"].transform(lambda x: x.fillna(x.median()))"
   ]
  },
  {
   "cell_type": "markdown",
   "id": "e2fd34cd",
   "metadata": {},
   "source": [
    "Following, we examine the distribution:"
   ]
  },
  {
   "cell_type": "code",
   "execution_count": 27,
   "id": "cd4ec81e",
   "metadata": {},
   "outputs": [
    {
     "data": {
      "image/png": "[encoded data removed]",
      "text/plain": [
       "<Figure size 1152x432 with 1 Axes>"
      ]
     },
     "metadata": {
      "needs_background": "light"
     },
     "output_type": "display_data"
    }
   ],
   "source": [
    "fig, ax = plt.subplots(figsize = (16, 6))\n",
    "sns.histplot(data = complete_dataset, x = \"Age\", ax = ax)\n",
    "plt.show()"
   ]
  },
  {
   "cell_type": "markdown",
   "id": "020670e1",
   "metadata": {},
   "source": [
    "Because of the replacement of missing values we created a huge peak in the distribution. To avoid problems related to the distribution, the feature will be converted to a categorical feature. To do so, the feature is divided into five different age brackets: "
   ]
  },
  {
   "cell_type": "code",
   "execution_count": 28,
   "id": "27cdbfe2",
   "metadata": {},
   "outputs": [],
   "source": [
    "complete_dataset[\"Age_Brackets\"] = pd.cut(complete_dataset[\"Age\"], 5, precision = 0)"
   ]
  },
  {
   "cell_type": "code",
   "execution_count": 29,
   "id": "f74cda8f",
   "metadata": {},
   "outputs": [
    {
     "data": {
      "text/plain": [
       "Age_Brackets\n",
       "(0.1, 16.0]     134\n",
       "(16.0, 32.0]    787\n",
       "(32.0, 48.0]    269\n",
       "(48.0, 64.0]    106\n",
       "(64.0, 80.0]     13\n",
       "Name: Age_Brackets, dtype: int64"
      ]
     },
     "execution_count": 29,
     "metadata": {},
     "output_type": "execute_result"
    }
   ],
   "source": [
    "complete_dataset.groupby(\"Age_Brackets\")[\"Age_Brackets\"].count()"
   ]
  },
  {
   "cell_type": "markdown",
   "id": "be9ea780",
   "metadata": {},
   "source": [
    "The majority of passengers were between 16 and 48 years old. Next, the relationship between the age brackets and the survival is examined:"
   ]
  },
  {
   "cell_type": "code",
   "execution_count": 30,
   "id": "fd70e162",
   "metadata": {},
   "outputs": [
    {
     "data": {
      "text/html": [
       "<div>\n",
       "<style scoped>\n",
       "    .dataframe tbody tr th:only-of-type {\n",
       "        vertical-align: middle;\n",
       "    }\n",
       "\n",
       "    .dataframe tbody tr th {\n",
       "        vertical-align: top;\n",
       "    }\n",
       "\n",
       "    .dataframe thead th {\n",
       "        text-align: right;\n",
       "    }\n",
       "</style>\n",
       "<table border=\"1\" class=\"dataframe\">\n",
       "  <thead>\n",
       "    <tr style=\"text-align: right;\">\n",
       "      <th></th>\n",
       "      <th>Survived</th>\n",
       "    </tr>\n",
       "    <tr>\n",
       "      <th>Age_Brackets</th>\n",
       "      <th></th>\n",
       "    </tr>\n",
       "  </thead>\n",
       "  <tbody>\n",
       "    <tr>\n",
       "      <th>(0.1, 16.0]</th>\n",
       "      <td>0.550000</td>\n",
       "    </tr>\n",
       "    <tr>\n",
       "      <th>(16.0, 32.0]</th>\n",
       "      <td>0.344168</td>\n",
       "    </tr>\n",
       "    <tr>\n",
       "      <th>(32.0, 48.0]</th>\n",
       "      <td>0.404255</td>\n",
       "    </tr>\n",
       "    <tr>\n",
       "      <th>(48.0, 64.0]</th>\n",
       "      <td>0.434783</td>\n",
       "    </tr>\n",
       "    <tr>\n",
       "      <th>(64.0, 80.0]</th>\n",
       "      <td>0.090909</td>\n",
       "    </tr>\n",
       "  </tbody>\n",
       "</table>\n",
       "</div>"
      ],
      "text/plain": [
       "              Survived\n",
       "Age_Brackets          \n",
       "(0.1, 16.0]   0.550000\n",
       "(16.0, 32.0]  0.344168\n",
       "(32.0, 48.0]  0.404255\n",
       "(48.0, 64.0]  0.434783\n",
       "(64.0, 80.0]  0.090909"
      ]
     },
     "execution_count": 30,
     "metadata": {},
     "output_type": "execute_result"
    }
   ],
   "source": [
    "complete_dataset[[\"Age_Brackets\", \"Survived\"]].groupby(\"Age_Brackets\").mean()"
   ]
  },
  {
   "cell_type": "markdown",
   "id": "0e48c37d",
   "metadata": {},
   "source": [
    "The results indicate that differences in age do have an impact on the survival. To complete the feature's conversion to a categorical variable, the age brackets are translated to dummy values (0 to 4):"
   ]
  },
  {
   "cell_type": "code",
   "execution_count": 31,
   "id": "43090efa",
   "metadata": {},
   "outputs": [],
   "source": [
    "complete_dataset[\"Age_Cat\"] = 0"
   ]
  },
  {
   "cell_type": "code",
   "execution_count": 32,
   "id": "d7013106",
   "metadata": {},
   "outputs": [],
   "source": [
    "complete_dataset.loc[(complete_dataset[\"Age\"] > 16) & (complete_dataset[\"Age\"] <= 32), \"Age_Cat\"] = 1\n",
    "complete_dataset.loc[(complete_dataset[\"Age\"] > 32) & (complete_dataset[\"Age\"] <= 48), \"Age_Cat\"] = 2\n",
    "complete_dataset.loc[(complete_dataset[\"Age\"] > 48) & (complete_dataset[\"Age\"] <= 64), \"Age_Cat\"] = 3\n",
    "complete_dataset.loc[complete_dataset[\"Age\"] > 64, \"Age_Cat\"] = 4"
   ]
  },
  {
   "cell_type": "markdown",
   "id": "d0b36723",
   "metadata": {},
   "source": [
    "Final check for missing values:"
   ]
  },
  {
   "cell_type": "code",
   "execution_count": 33,
   "id": "60d1895f",
   "metadata": {},
   "outputs": [
    {
     "data": {
      "text/plain": [
       "0"
      ]
     },
     "execution_count": 33,
     "metadata": {},
     "output_type": "execute_result"
    }
   ],
   "source": [
    "complete_dataset[\"Age_Cat\"].isna().sum()"
   ]
  },
  {
   "cell_type": "markdown",
   "id": "2383b005",
   "metadata": {},
   "source": [
    "#### Embarked"
   ]
  },
  {
   "cell_type": "markdown",
   "id": "476d0e5f",
   "metadata": {},
   "source": [
    "The features contains information on the port of embarkation. Impute the few missing values with the mode value (\"S\"):"
   ]
  },
  {
   "cell_type": "code",
   "execution_count": 34,
   "id": "eac01711",
   "metadata": {},
   "outputs": [
    {
     "data": {
      "text/plain": [
       "'S'"
      ]
     },
     "execution_count": 34,
     "metadata": {},
     "output_type": "execute_result"
    }
   ],
   "source": [
    "complete_dataset[\"Embarked\"].mode()[0]"
   ]
  },
  {
   "cell_type": "code",
   "execution_count": 35,
   "id": "0659961b",
   "metadata": {},
   "outputs": [],
   "source": [
    "complete_dataset[\"Embarked\"] = complete_dataset[\"Embarked\"].fillna(complete_dataset[\"Embarked\"].mode()[0])"
   ]
  },
  {
   "cell_type": "markdown",
   "id": "63384d68",
   "metadata": {},
   "source": [
    "Check for missings:"
   ]
  },
  {
   "cell_type": "code",
   "execution_count": 36,
   "id": "10eb205a",
   "metadata": {},
   "outputs": [
    {
     "data": {
      "text/plain": [
       "0"
      ]
     },
     "execution_count": 36,
     "metadata": {},
     "output_type": "execute_result"
    }
   ],
   "source": [
    "complete_dataset[\"Embarked\"].isna().sum()"
   ]
  },
  {
   "cell_type": "markdown",
   "id": "1401c657",
   "metadata": {},
   "source": [
    "Convert the feature to a categorical variable by creating binary encoded features for each class (*see Pclass for a brief explanation*):"
   ]
  },
  {
   "cell_type": "code",
   "execution_count": 37,
   "id": "9a80b7fb",
   "metadata": {},
   "outputs": [],
   "source": [
    "complete_dataset[\"Embarked_S\"] = complete_dataset[\"Embarked\"].apply(lambda row: 1 if row == \"S\" else 0)\n",
    "complete_dataset[\"Embarked_C\"] = complete_dataset[\"Embarked\"].apply(lambda row: 1 if row == \"C\" else 0)\n",
    "complete_dataset[\"Embarked_Q\"] = complete_dataset[\"Embarked\"].apply(lambda row: 1 if row == \"Q\" else 0)"
   ]
  },
  {
   "cell_type": "markdown",
   "id": "11e9e179",
   "metadata": {},
   "source": [
    "#### Fare"
   ]
  },
  {
   "cell_type": "markdown",
   "id": "e1d590ea",
   "metadata": {},
   "source": [
    "Feature shows the ticket prices. Impute the few missing values with the median value for the corresponding ticket class:"
   ]
  },
  {
   "cell_type": "code",
   "execution_count": 38,
   "id": "44bec909",
   "metadata": {},
   "outputs": [],
   "source": [
    "complete_dataset[\"Fare\"] = complete_dataset.groupby(\"Pclass\")[\"Fare\"].transform(lambda x: x.fillna(x.median()))"
   ]
  },
  {
   "cell_type": "markdown",
   "id": "52b526f7",
   "metadata": {},
   "source": [
    "Next, I do examine the distribution:"
   ]
  },
  {
   "cell_type": "code",
   "execution_count": 39,
   "id": "afb195e1",
   "metadata": {},
   "outputs": [
    {
     "data": {
      "image/png": "[encoded data removed]",
      "text/plain": [
       "<Figure size 1152x432 with 1 Axes>"
      ]
     },
     "metadata": {
      "needs_background": "light"
     },
     "output_type": "display_data"
    }
   ],
   "source": [
    "fig, ax = plt.subplots(figsize = (16, 6))\n",
    "sns.histplot(data = complete_dataset, x = \"Fare\", ax = ax)\n",
    "plt.show()"
   ]
  },
  {
   "cell_type": "markdown",
   "id": "05a60bea",
   "metadata": {},
   "source": [
    "As expected, the feature's distribution is right-skewed. As for the `Age`-feature, the feature is converted to a categorical variable. First: create a new column with four fare brackets."
   ]
  },
  {
   "cell_type": "code",
   "execution_count": 40,
   "id": "b950f470",
   "metadata": {},
   "outputs": [],
   "source": [
    "complete_dataset[\"Fare_Brackets\"] = pd.cut(complete_dataset[\"Fare\"], 4, precision = 0)"
   ]
  },
  {
   "cell_type": "code",
   "execution_count": 41,
   "id": "cf5b9111",
   "metadata": {},
   "outputs": [
    {
     "data": {
      "text/plain": [
       "Fare_Brackets\n",
       "(-1.0, 128.0]     1242\n",
       "(128.0, 256.0]      50\n",
       "(256.0, 384.0]      13\n",
       "(384.0, 512.0]       4\n",
       "Name: Fare_Brackets, dtype: int64"
      ]
     },
     "execution_count": 41,
     "metadata": {},
     "output_type": "execute_result"
    }
   ],
   "source": [
    "complete_dataset.groupby(\"Fare_Brackets\")[\"Fare_Brackets\"].count()"
   ]
  },
  {
   "cell_type": "markdown",
   "id": "f122a7e1",
   "metadata": {},
   "source": [
    "In the following, the relationship between the fare brackets and the survival is examined:"
   ]
  },
  {
   "cell_type": "code",
   "execution_count": 42,
   "id": "57f88594",
   "metadata": {},
   "outputs": [
    {
     "data": {
      "text/html": [
       "<div>\n",
       "<style scoped>\n",
       "    .dataframe tbody tr th:only-of-type {\n",
       "        vertical-align: middle;\n",
       "    }\n",
       "\n",
       "    .dataframe tbody tr th {\n",
       "        vertical-align: top;\n",
       "    }\n",
       "\n",
       "    .dataframe thead th {\n",
       "        text-align: right;\n",
       "    }\n",
       "</style>\n",
       "<table border=\"1\" class=\"dataframe\">\n",
       "  <thead>\n",
       "    <tr style=\"text-align: right;\">\n",
       "      <th></th>\n",
       "      <th>Fare_Brackets</th>\n",
       "      <th>Survived</th>\n",
       "    </tr>\n",
       "  </thead>\n",
       "  <tbody>\n",
       "    <tr>\n",
       "      <th>0</th>\n",
       "      <td>(-1.0, 128.0]</td>\n",
       "      <td>0.368113</td>\n",
       "    </tr>\n",
       "    <tr>\n",
       "      <th>1</th>\n",
       "      <td>(128.0, 256.0]</td>\n",
       "      <td>0.724138</td>\n",
       "    </tr>\n",
       "    <tr>\n",
       "      <th>2</th>\n",
       "      <td>(256.0, 384.0]</td>\n",
       "      <td>0.666667</td>\n",
       "    </tr>\n",
       "    <tr>\n",
       "      <th>3</th>\n",
       "      <td>(384.0, 512.0]</td>\n",
       "      <td>1.000000</td>\n",
       "    </tr>\n",
       "  </tbody>\n",
       "</table>\n",
       "</div>"
      ],
      "text/plain": [
       "    Fare_Brackets  Survived\n",
       "0   (-1.0, 128.0]  0.368113\n",
       "1  (128.0, 256.0]  0.724138\n",
       "2  (256.0, 384.0]  0.666667\n",
       "3  (384.0, 512.0]  1.000000"
      ]
     },
     "execution_count": 42,
     "metadata": {},
     "output_type": "execute_result"
    }
   ],
   "source": [
    "complete_dataset[[\"Fare_Brackets\", \"Survived\"]].groupby(\"Fare_Brackets\", as_index = False).mean()"
   ]
  },
  {
   "cell_type": "markdown",
   "id": "a49488eb",
   "metadata": {},
   "source": [
    "There is a clear relationship between a survival and the ticket price. One might argue that a higher ticket price is accompanied with e.g. a cabin closely located to the lifeboats. To complete the conversion to a categorical feature, translate the fare brackets to dummy values:"
   ]
  },
  {
   "cell_type": "code",
   "execution_count": 43,
   "id": "1663826b",
   "metadata": {},
   "outputs": [],
   "source": [
    "complete_dataset[\"Fare_Cat\"] = 0"
   ]
  },
  {
   "cell_type": "code",
   "execution_count": 44,
   "id": "5ccde3bc",
   "metadata": {},
   "outputs": [],
   "source": [
    "complete_dataset.loc[(complete_dataset[\"Fare\"] > 128) & (complete_dataset[\"Fare\"] <= 256), \"Fare_Cat\"] = 1\n",
    "complete_dataset.loc[(complete_dataset[\"Fare\"] > 256) & (complete_dataset[\"Fare\"] <= 384), \"Fare_Cat\"] = 2\n",
    "complete_dataset.loc[complete_dataset[\"Fare\"] > 384, \"Fare_Cat\"] = 3"
   ]
  },
  {
   "cell_type": "markdown",
   "id": "beddd238",
   "metadata": {},
   "source": [
    "Final check for missing values:"
   ]
  },
  {
   "cell_type": "code",
   "execution_count": 45,
   "id": "3a47d883",
   "metadata": {},
   "outputs": [
    {
     "data": {
      "text/plain": [
       "0"
      ]
     },
     "execution_count": 45,
     "metadata": {},
     "output_type": "execute_result"
    }
   ],
   "source": [
    "complete_dataset[\"Fare_Cat\"].isna().sum()"
   ]
  },
  {
   "cell_type": "markdown",
   "id": "ec789684",
   "metadata": {},
   "source": [
    "#### Ticket"
   ]
  },
  {
   "cell_type": "markdown",
   "id": "fce1eddb",
   "metadata": {},
   "source": [
    "Feature will be dropped since it only contains the string-formatted ticket number."
   ]
  },
  {
   "cell_type": "markdown",
   "id": "dcb22e99",
   "metadata": {},
   "source": [
    "#### PassengerId"
   ]
  },
  {
   "cell_type": "markdown",
   "id": "ccbc2dc1",
   "metadata": {},
   "source": [
    "Features contains the passengers' ID. Convert it to a string since no calculation can be applied to the ID:"
   ]
  },
  {
   "cell_type": "code",
   "execution_count": 46,
   "id": "e5e0f357",
   "metadata": {},
   "outputs": [],
   "source": [
    "complete_dataset[\"PassengerId\"] = complete_dataset[\"PassengerId\"].astype(\"str\")"
   ]
  },
  {
   "cell_type": "markdown",
   "id": "6be8a998",
   "metadata": {},
   "source": [
    "#### Name"
   ]
  },
  {
   "cell_type": "markdown",
   "id": "c2370f64",
   "metadata": {},
   "source": [
    "This feature encompasses the passengers' first and second name as well as their title. I do create a new column with the title to check whether it has an impact on the survival:"
   ]
  },
  {
   "cell_type": "code",
   "execution_count": 49,
   "id": "e643a91b",
   "metadata": {},
   "outputs": [],
   "source": [
    "complete_dataset[\"Title\"] = complete_dataset[\"Name\"].apply(lambda row: re.findall(r'\\w+\\.', row)[0])"
   ]
  },
  {
   "cell_type": "code",
   "execution_count": 50,
   "id": "b2ed60d9",
   "metadata": {
    "scrolled": true
   },
   "outputs": [
    {
     "data": {
      "text/plain": [
       "Mr.          757\n",
       "Miss.        260\n",
       "Mrs.         197\n",
       "Master.       61\n",
       "Rev.           8\n",
       "Dr.            8\n",
       "Col.           4\n",
       "Mlle.          2\n",
       "Major.         2\n",
       "Ms.            2\n",
       "Mme.           1\n",
       "Don.           1\n",
       "Sir.           1\n",
       "Jonkheer.      1\n",
       "Capt.          1\n",
       "Lady.          1\n",
       "Dona.          1\n",
       "Countess.      1\n",
       "Name: Title, dtype: int64"
      ]
     },
     "execution_count": 50,
     "metadata": {},
     "output_type": "execute_result"
    }
   ],
   "source": [
    "complete_dataset[\"Title\"].value_counts()"
   ]
  },
  {
   "cell_type": "markdown",
   "id": "9d36d6ca",
   "metadata": {},
   "source": [
    "Replace 'Miss.' with 'Ms.':"
   ]
  },
  {
   "cell_type": "code",
   "execution_count": 51,
   "id": "5beefc63",
   "metadata": {},
   "outputs": [],
   "source": [
    "complete_dataset[\"Title\"] = complete_dataset[\"Title\"].replace(\"Miss.\", \"Ms.\")"
   ]
  },
  {
   "cell_type": "markdown",
   "id": "56b7a190",
   "metadata": {},
   "source": [
    "Summarize all classes with count < 10 to one category to remove the noise:"
   ]
  },
  {
   "cell_type": "code",
   "execution_count": 54,
   "id": "f145a581",
   "metadata": {},
   "outputs": [],
   "source": [
    "count_less_ten = complete_dataset.groupby(\"Title\")[\"Title\"].count()\n",
    "count_less_ten = list(count_less_ten[count_less_ten < 10].index)"
   ]
  },
  {
   "cell_type": "code",
   "execution_count": 55,
   "id": "5f4f9ed8",
   "metadata": {},
   "outputs": [],
   "source": [
    "complete_dataset[\"Title\"] = complete_dataset[\"Title\"].replace(count_less_ten, \"Rest\")"
   ]
  },
  {
   "cell_type": "markdown",
   "id": "811b40fb",
   "metadata": {},
   "source": [
    "Next, the relation between survival and the passengers' title is examined:"
   ]
  },
  {
   "cell_type": "code",
   "execution_count": 56,
   "id": "1168807d",
   "metadata": {},
   "outputs": [
    {
     "data": {
      "text/html": [
       "<div>\n",
       "<style scoped>\n",
       "    .dataframe tbody tr th:only-of-type {\n",
       "        vertical-align: middle;\n",
       "    }\n",
       "\n",
       "    .dataframe tbody tr th {\n",
       "        vertical-align: top;\n",
       "    }\n",
       "\n",
       "    .dataframe thead th {\n",
       "        text-align: right;\n",
       "    }\n",
       "</style>\n",
       "<table border=\"1\" class=\"dataframe\">\n",
       "  <thead>\n",
       "    <tr style=\"text-align: right;\">\n",
       "      <th></th>\n",
       "      <th>Title</th>\n",
       "      <th>Survived</th>\n",
       "    </tr>\n",
       "  </thead>\n",
       "  <tbody>\n",
       "    <tr>\n",
       "      <th>0</th>\n",
       "      <td>Master.</td>\n",
       "      <td>0.575000</td>\n",
       "    </tr>\n",
       "    <tr>\n",
       "      <th>1</th>\n",
       "      <td>Mr.</td>\n",
       "      <td>0.156673</td>\n",
       "    </tr>\n",
       "    <tr>\n",
       "      <th>2</th>\n",
       "      <td>Mrs.</td>\n",
       "      <td>0.792000</td>\n",
       "    </tr>\n",
       "    <tr>\n",
       "      <th>3</th>\n",
       "      <td>Ms.</td>\n",
       "      <td>0.699454</td>\n",
       "    </tr>\n",
       "    <tr>\n",
       "      <th>4</th>\n",
       "      <td>Rest</td>\n",
       "      <td>0.423077</td>\n",
       "    </tr>\n",
       "  </tbody>\n",
       "</table>\n",
       "</div>"
      ],
      "text/plain": [
       "     Title  Survived\n",
       "0  Master.  0.575000\n",
       "1      Mr.  0.156673\n",
       "2     Mrs.  0.792000\n",
       "3      Ms.  0.699454\n",
       "4     Rest  0.423077"
      ]
     },
     "execution_count": 56,
     "metadata": {},
     "output_type": "execute_result"
    }
   ],
   "source": [
    "complete_dataset[[\"Title\", \"Survived\"]].groupby(\"Title\", as_index = False).mean()"
   ]
  },
  {
   "cell_type": "markdown",
   "id": "de761528",
   "metadata": {},
   "source": [
    "The table indicates that the title does have an impact on the survival. Higher survival rates are related to female titles. That makes sense as women and children were saved first. As for the features `Pclass` and `Embarked`, binary encoded features for each class are created:"
   ]
  },
  {
   "cell_type": "code",
   "execution_count": 57,
   "id": "3c6f0a74",
   "metadata": {},
   "outputs": [],
   "source": [
    "complete_dataset[\"Title_Mrs\"] = complete_dataset[\"Title\"].apply(lambda row: 1 if row == \"Mrs.\" else 0)\n",
    "complete_dataset[\"Title_Ms\"] = complete_dataset[\"Title\"].apply(lambda row: 1 if row == \"Ms.\" else 0)\n",
    "complete_dataset[\"Title_Mr\"] = complete_dataset[\"Title\"].apply(lambda row: 1 if row == \"Mr.\" else 0)\n",
    "complete_dataset[\"Title_Master\"] = complete_dataset[\"Title\"].apply(lambda row: 1 if row == \"Master.\" else 0)\n",
    "complete_dataset[\"Title_Rest\"] = complete_dataset[\"Title\"].apply(lambda row: 1 if row == \"Rest\" else 0)"
   ]
  },
  {
   "cell_type": "markdown",
   "id": "93f4b68e",
   "metadata": {},
   "source": [
    "#### Sex"
   ]
  },
  {
   "cell_type": "markdown",
   "id": "d88cb435",
   "metadata": {},
   "source": [
    "The features contains information on the passengers' sex. In this dataset, it makes sense ti differentiate between female and male. Hence, a binary variable with two classes is created: 0 (male) and 1 (female). "
   ]
  },
  {
   "cell_type": "code",
   "execution_count": 58,
   "id": "4b1e1633",
   "metadata": {},
   "outputs": [
    {
     "data": {
      "text/plain": [
       "male      843\n",
       "female    466\n",
       "Name: Sex, dtype: int64"
      ]
     },
     "execution_count": 58,
     "metadata": {},
     "output_type": "execute_result"
    }
   ],
   "source": [
    "complete_dataset[\"Sex\"].value_counts()"
   ]
  },
  {
   "cell_type": "code",
   "execution_count": 59,
   "id": "9dd27035",
   "metadata": {},
   "outputs": [],
   "source": [
    "complete_dataset[\"Sex\"] = complete_dataset[\"Sex\"].apply(lambda row: 0 if row == \"male\" else 1)"
   ]
  },
  {
   "cell_type": "markdown",
   "id": "29e61845",
   "metadata": {},
   "source": [
    "As expected, the table above shows that most of the passengers were male persons. Following, I do look at the survival rates of both sexes:"
   ]
  },
  {
   "cell_type": "code",
   "execution_count": 60,
   "id": "9ec69b42",
   "metadata": {},
   "outputs": [
    {
     "data": {
      "text/html": [
       "<div>\n",
       "<style scoped>\n",
       "    .dataframe tbody tr th:only-of-type {\n",
       "        vertical-align: middle;\n",
       "    }\n",
       "\n",
       "    .dataframe tbody tr th {\n",
       "        vertical-align: top;\n",
       "    }\n",
       "\n",
       "    .dataframe thead th {\n",
       "        text-align: right;\n",
       "    }\n",
       "</style>\n",
       "<table border=\"1\" class=\"dataframe\">\n",
       "  <thead>\n",
       "    <tr style=\"text-align: right;\">\n",
       "      <th></th>\n",
       "      <th>Sex</th>\n",
       "      <th>Survived</th>\n",
       "    </tr>\n",
       "  </thead>\n",
       "  <tbody>\n",
       "    <tr>\n",
       "      <th>0</th>\n",
       "      <td>0</td>\n",
       "      <td>0.188908</td>\n",
       "    </tr>\n",
       "    <tr>\n",
       "      <th>1</th>\n",
       "      <td>1</td>\n",
       "      <td>0.742038</td>\n",
       "    </tr>\n",
       "  </tbody>\n",
       "</table>\n",
       "</div>"
      ],
      "text/plain": [
       "   Sex  Survived\n",
       "0    0  0.188908\n",
       "1    1  0.742038"
      ]
     },
     "execution_count": 60,
     "metadata": {},
     "output_type": "execute_result"
    }
   ],
   "source": [
    "complete_dataset[[\"Sex\", \"Survived\"]].groupby(\"Sex\", as_index = False).mean()"
   ]
  },
  {
   "cell_type": "markdown",
   "id": "8b6c0973",
   "metadata": {},
   "source": [
    "As already seen for the `Title`-feature, female persons have the higher rate of survival."
   ]
  },
  {
   "cell_type": "markdown",
   "id": "941ed2fd",
   "metadata": {},
   "source": [
    "#### SibSp & Parch"
   ]
  },
  {
   "cell_type": "markdown",
   "id": "9d072f59",
   "metadata": {},
   "source": [
    "Both features contain information on the family size. Hence, features are combined in one single feature:"
   ]
  },
  {
   "cell_type": "code",
   "execution_count": 61,
   "id": "f88f7113",
   "metadata": {},
   "outputs": [],
   "source": [
    "complete_dataset[\"FamSize\"] = complete_dataset[\"SibSp\"] + complete_dataset[\"Parch\"] + 1"
   ]
  },
  {
   "cell_type": "code",
   "execution_count": 62,
   "id": "e3a3bcc7",
   "metadata": {},
   "outputs": [
    {
     "data": {
      "text/plain": [
       "FamSize\n",
       "1     790\n",
       "2     235\n",
       "3     159\n",
       "4      43\n",
       "5      22\n",
       "6      25\n",
       "7      16\n",
       "8       8\n",
       "11     11\n",
       "Name: FamSize, dtype: int64"
      ]
     },
     "execution_count": 62,
     "metadata": {},
     "output_type": "execute_result"
    }
   ],
   "source": [
    "complete_dataset.groupby(\"FamSize\")[\"FamSize\"].count()"
   ]
  },
  {
   "cell_type": "markdown",
   "id": "400cdefa",
   "metadata": {},
   "source": [
    "Next, the relationship between the passengers' family size and the survival is examined:"
   ]
  },
  {
   "cell_type": "code",
   "execution_count": 63,
   "id": "b7b9a04a",
   "metadata": {},
   "outputs": [
    {
     "data": {
      "text/html": [
       "<div>\n",
       "<style scoped>\n",
       "    .dataframe tbody tr th:only-of-type {\n",
       "        vertical-align: middle;\n",
       "    }\n",
       "\n",
       "    .dataframe tbody tr th {\n",
       "        vertical-align: top;\n",
       "    }\n",
       "\n",
       "    .dataframe thead th {\n",
       "        text-align: right;\n",
       "    }\n",
       "</style>\n",
       "<table border=\"1\" class=\"dataframe\">\n",
       "  <thead>\n",
       "    <tr style=\"text-align: right;\">\n",
       "      <th></th>\n",
       "      <th>FamSize</th>\n",
       "      <th>Survived</th>\n",
       "    </tr>\n",
       "  </thead>\n",
       "  <tbody>\n",
       "    <tr>\n",
       "      <th>0</th>\n",
       "      <td>1</td>\n",
       "      <td>0.303538</td>\n",
       "    </tr>\n",
       "    <tr>\n",
       "      <th>1</th>\n",
       "      <td>2</td>\n",
       "      <td>0.552795</td>\n",
       "    </tr>\n",
       "    <tr>\n",
       "      <th>2</th>\n",
       "      <td>3</td>\n",
       "      <td>0.578431</td>\n",
       "    </tr>\n",
       "    <tr>\n",
       "      <th>3</th>\n",
       "      <td>4</td>\n",
       "      <td>0.724138</td>\n",
       "    </tr>\n",
       "    <tr>\n",
       "      <th>4</th>\n",
       "      <td>5</td>\n",
       "      <td>0.200000</td>\n",
       "    </tr>\n",
       "    <tr>\n",
       "      <th>5</th>\n",
       "      <td>6</td>\n",
       "      <td>0.136364</td>\n",
       "    </tr>\n",
       "    <tr>\n",
       "      <th>6</th>\n",
       "      <td>7</td>\n",
       "      <td>0.333333</td>\n",
       "    </tr>\n",
       "    <tr>\n",
       "      <th>7</th>\n",
       "      <td>8</td>\n",
       "      <td>0.000000</td>\n",
       "    </tr>\n",
       "    <tr>\n",
       "      <th>8</th>\n",
       "      <td>11</td>\n",
       "      <td>0.000000</td>\n",
       "    </tr>\n",
       "  </tbody>\n",
       "</table>\n",
       "</div>"
      ],
      "text/plain": [
       "   FamSize  Survived\n",
       "0        1  0.303538\n",
       "1        2  0.552795\n",
       "2        3  0.578431\n",
       "3        4  0.724138\n",
       "4        5  0.200000\n",
       "5        6  0.136364\n",
       "6        7  0.333333\n",
       "7        8  0.000000\n",
       "8       11  0.000000"
      ]
     },
     "execution_count": 63,
     "metadata": {},
     "output_type": "execute_result"
    }
   ],
   "source": [
    "complete_dataset[[\"FamSize\", \"Survived\"]].groupby(\"FamSize\", as_index = False).mean()"
   ]
  },
  {
   "cell_type": "markdown",
   "id": "c9ef329a",
   "metadata": {},
   "source": [
    "There are definitely differences in survival related to the family size. However, family sizes greater than 3 could be summarized to one group. Moreover, the feature is converted to a categorical variable:"
   ]
  },
  {
   "cell_type": "code",
   "execution_count": 64,
   "id": "e230985a",
   "metadata": {},
   "outputs": [],
   "source": [
    "complete_dataset[\"FamSize\"] = complete_dataset[\"FamSize\"].apply(lambda row: \"4+\" if row >= 4 else row)\n",
    "complete_dataset[\"FamSize\"] = complete_dataset[\"FamSize\"].astype(\"str\")"
   ]
  },
  {
   "cell_type": "code",
   "execution_count": 65,
   "id": "efd28b14",
   "metadata": {},
   "outputs": [],
   "source": [
    "complete_dataset[\"FamSize_Cat\"] = 0"
   ]
  },
  {
   "cell_type": "code",
   "execution_count": 66,
   "id": "aff57e8f",
   "metadata": {},
   "outputs": [],
   "source": [
    "complete_dataset.loc[complete_dataset[\"FamSize\"] == \"2\", \"FamSize_Cat\"] = 1\n",
    "complete_dataset.loc[complete_dataset[\"FamSize\"] == \"3\", \"FamSize_Cat\"] = 2\n",
    "complete_dataset.loc[complete_dataset[\"FamSize\"] == \"4+\", \"FamSize_Cat\"] = 3"
   ]
  },
  {
   "cell_type": "markdown",
   "id": "87008497",
   "metadata": {},
   "source": [
    "Again, the relationship between feature and survival is examined:"
   ]
  },
  {
   "cell_type": "code",
   "execution_count": 67,
   "id": "2d5187e4",
   "metadata": {},
   "outputs": [
    {
     "data": {
      "text/html": [
       "<div>\n",
       "<style scoped>\n",
       "    .dataframe tbody tr th:only-of-type {\n",
       "        vertical-align: middle;\n",
       "    }\n",
       "\n",
       "    .dataframe tbody tr th {\n",
       "        vertical-align: top;\n",
       "    }\n",
       "\n",
       "    .dataframe thead th {\n",
       "        text-align: right;\n",
       "    }\n",
       "</style>\n",
       "<table border=\"1\" class=\"dataframe\">\n",
       "  <thead>\n",
       "    <tr style=\"text-align: right;\">\n",
       "      <th></th>\n",
       "      <th>FamSize_Cat</th>\n",
       "      <th>Survived</th>\n",
       "    </tr>\n",
       "  </thead>\n",
       "  <tbody>\n",
       "    <tr>\n",
       "      <th>0</th>\n",
       "      <td>0</td>\n",
       "      <td>0.303538</td>\n",
       "    </tr>\n",
       "    <tr>\n",
       "      <th>1</th>\n",
       "      <td>1</td>\n",
       "      <td>0.552795</td>\n",
       "    </tr>\n",
       "    <tr>\n",
       "      <th>2</th>\n",
       "      <td>2</td>\n",
       "      <td>0.578431</td>\n",
       "    </tr>\n",
       "    <tr>\n",
       "      <th>3</th>\n",
       "      <td>3</td>\n",
       "      <td>0.340659</td>\n",
       "    </tr>\n",
       "  </tbody>\n",
       "</table>\n",
       "</div>"
      ],
      "text/plain": [
       "   FamSize_Cat  Survived\n",
       "0            0  0.303538\n",
       "1            1  0.552795\n",
       "2            2  0.578431\n",
       "3            3  0.340659"
      ]
     },
     "execution_count": 67,
     "metadata": {},
     "output_type": "execute_result"
    }
   ],
   "source": [
    "complete_dataset[[\"FamSize_Cat\", \"Survived\"]].groupby(\"FamSize_Cat\", as_index = False).mean()"
   ]
  },
  {
   "cell_type": "markdown",
   "id": "cc91d8fd",
   "metadata": {},
   "source": [
    "The results show an increasing chance of survival for passengers that did not travel alone. However, there is a reverse in this relation for the last category (family size of 4 or greater)."
   ]
  },
  {
   "cell_type": "markdown",
   "id": "c9fd680b",
   "metadata": {},
   "source": [
    "As indicated above, not required features are dropped:"
   ]
  },
  {
   "cell_type": "code",
   "execution_count": 68,
   "id": "6b389f74",
   "metadata": {},
   "outputs": [],
   "source": [
    "complete_dataset.drop(columns = [\"Deck\", \"Cabin\", \"Pclass\", \"Age\", \"Age_Brackets\", \"Embarked\",\n",
    "                                 \"Fare\", \"Fare_Brackets\", \"Ticket\", \"Name\", \"Title\", \"SibSp\", \"Parch\",\n",
    "                                 \"FamSize\"], axis = 1, inplace = True)"
   ]
  },
  {
   "cell_type": "markdown",
   "id": "533ed91a",
   "metadata": {},
   "source": [
    "Inspect the final dataset:"
   ]
  },
  {
   "cell_type": "code",
   "execution_count": 69,
   "id": "d3f4227a",
   "metadata": {},
   "outputs": [
    {
     "data": {
      "text/html": [
       "<div>\n",
       "<style scoped>\n",
       "    .dataframe tbody tr th:only-of-type {\n",
       "        vertical-align: middle;\n",
       "    }\n",
       "\n",
       "    .dataframe tbody tr th {\n",
       "        vertical-align: top;\n",
       "    }\n",
       "\n",
       "    .dataframe thead th {\n",
       "        text-align: right;\n",
       "    }\n",
       "</style>\n",
       "<table border=\"1\" class=\"dataframe\">\n",
       "  <thead>\n",
       "    <tr style=\"text-align: right;\">\n",
       "      <th></th>\n",
       "      <th>PassengerId</th>\n",
       "      <th>Survived</th>\n",
       "      <th>Sex</th>\n",
       "      <th>First_Class</th>\n",
       "      <th>Second_Class</th>\n",
       "      <th>Third_Class</th>\n",
       "      <th>Age_Cat</th>\n",
       "      <th>Embarked_S</th>\n",
       "      <th>Embarked_C</th>\n",
       "      <th>Embarked_Q</th>\n",
       "      <th>Fare_Cat</th>\n",
       "      <th>Title_Mrs</th>\n",
       "      <th>Title_Ms</th>\n",
       "      <th>Title_Mr</th>\n",
       "      <th>Title_Master</th>\n",
       "      <th>Title_Rest</th>\n",
       "      <th>FamSize_Cat</th>\n",
       "    </tr>\n",
       "  </thead>\n",
       "  <tbody>\n",
       "    <tr>\n",
       "      <th>0</th>\n",
       "      <td>1</td>\n",
       "      <td>0.0</td>\n",
       "      <td>0</td>\n",
       "      <td>0</td>\n",
       "      <td>0</td>\n",
       "      <td>1</td>\n",
       "      <td>1</td>\n",
       "      <td>1</td>\n",
       "      <td>0</td>\n",
       "      <td>0</td>\n",
       "      <td>0</td>\n",
       "      <td>0</td>\n",
       "      <td>0</td>\n",
       "      <td>1</td>\n",
       "      <td>0</td>\n",
       "      <td>0</td>\n",
       "      <td>1</td>\n",
       "    </tr>\n",
       "    <tr>\n",
       "      <th>1</th>\n",
       "      <td>2</td>\n",
       "      <td>1.0</td>\n",
       "      <td>1</td>\n",
       "      <td>1</td>\n",
       "      <td>0</td>\n",
       "      <td>0</td>\n",
       "      <td>2</td>\n",
       "      <td>0</td>\n",
       "      <td>1</td>\n",
       "      <td>0</td>\n",
       "      <td>0</td>\n",
       "      <td>1</td>\n",
       "      <td>0</td>\n",
       "      <td>0</td>\n",
       "      <td>0</td>\n",
       "      <td>0</td>\n",
       "      <td>1</td>\n",
       "    </tr>\n",
       "    <tr>\n",
       "      <th>2</th>\n",
       "      <td>3</td>\n",
       "      <td>1.0</td>\n",
       "      <td>1</td>\n",
       "      <td>0</td>\n",
       "      <td>0</td>\n",
       "      <td>1</td>\n",
       "      <td>1</td>\n",
       "      <td>1</td>\n",
       "      <td>0</td>\n",
       "      <td>0</td>\n",
       "      <td>0</td>\n",
       "      <td>0</td>\n",
       "      <td>1</td>\n",
       "      <td>0</td>\n",
       "      <td>0</td>\n",
       "      <td>0</td>\n",
       "      <td>0</td>\n",
       "    </tr>\n",
       "    <tr>\n",
       "      <th>3</th>\n",
       "      <td>4</td>\n",
       "      <td>1.0</td>\n",
       "      <td>1</td>\n",
       "      <td>1</td>\n",
       "      <td>0</td>\n",
       "      <td>0</td>\n",
       "      <td>2</td>\n",
       "      <td>1</td>\n",
       "      <td>0</td>\n",
       "      <td>0</td>\n",
       "      <td>0</td>\n",
       "      <td>1</td>\n",
       "      <td>0</td>\n",
       "      <td>0</td>\n",
       "      <td>0</td>\n",
       "      <td>0</td>\n",
       "      <td>1</td>\n",
       "    </tr>\n",
       "    <tr>\n",
       "      <th>4</th>\n",
       "      <td>5</td>\n",
       "      <td>0.0</td>\n",
       "      <td>0</td>\n",
       "      <td>0</td>\n",
       "      <td>0</td>\n",
       "      <td>1</td>\n",
       "      <td>2</td>\n",
       "      <td>1</td>\n",
       "      <td>0</td>\n",
       "      <td>0</td>\n",
       "      <td>0</td>\n",
       "      <td>0</td>\n",
       "      <td>0</td>\n",
       "      <td>1</td>\n",
       "      <td>0</td>\n",
       "      <td>0</td>\n",
       "      <td>0</td>\n",
       "    </tr>\n",
       "  </tbody>\n",
       "</table>\n",
       "</div>"
      ],
      "text/plain": [
       "  PassengerId  Survived  Sex  First_Class  Second_Class  Third_Class  Age_Cat  \\\n",
       "0           1       0.0    0            0             0            1        1   \n",
       "1           2       1.0    1            1             0            0        2   \n",
       "2           3       1.0    1            0             0            1        1   \n",
       "3           4       1.0    1            1             0            0        2   \n",
       "4           5       0.0    0            0             0            1        2   \n",
       "\n",
       "   Embarked_S  Embarked_C  Embarked_Q  Fare_Cat  Title_Mrs  Title_Ms  \\\n",
       "0           1           0           0         0          0         0   \n",
       "1           0           1           0         0          1         0   \n",
       "2           1           0           0         0          0         1   \n",
       "3           1           0           0         0          1         0   \n",
       "4           1           0           0         0          0         0   \n",
       "\n",
       "   Title_Mr  Title_Master  Title_Rest  FamSize_Cat  \n",
       "0         1             0           0            1  \n",
       "1         0             0           0            1  \n",
       "2         0             0           0            0  \n",
       "3         0             0           0            1  \n",
       "4         1             0           0            0  "
      ]
     },
     "execution_count": 69,
     "metadata": {},
     "output_type": "execute_result"
    }
   ],
   "source": [
    "complete_dataset.head()"
   ]
  },
  {
   "cell_type": "code",
   "execution_count": 70,
   "id": "a3daa996",
   "metadata": {},
   "outputs": [
    {
     "name": "stdout",
     "output_type": "stream",
     "text": [
      "['PassengerId', 'Survived', 'Sex', 'First_Class', 'Second_Class', 'Third_Class', 'Age_Cat', 'Embarked_S', 'Embarked_C', 'Embarked_Q', 'Fare_Cat', 'Title_Mrs', 'Title_Ms', 'Title_Mr', 'Title_Master', 'Title_Rest', 'FamSize_Cat']\n"
     ]
    }
   ],
   "source": [
    "print(list(complete_dataset.columns))"
   ]
  },
  {
   "cell_type": "code",
   "execution_count": 71,
   "id": "0117f478",
   "metadata": {},
   "outputs": [
    {
     "name": "stdout",
     "output_type": "stream",
     "text": [
      "(1309, 17)\n"
     ]
    }
   ],
   "source": [
    "print(complete_dataset.shape)"
   ]
  },
  {
   "cell_type": "markdown",
   "id": "5f4ce91b",
   "metadata": {},
   "source": [
    "After exploring the dataset 16 explanatory features (17 minus 1 as the passenger ID will not be used) for predicting the survival are left. In the following, the data is prepared to build machine learning models. "
   ]
  },
  {
   "cell_type": "markdown",
   "id": "8edc0532",
   "metadata": {},
   "source": [
    "## Dataset preparation"
   ]
  },
  {
   "cell_type": "markdown",
   "id": "955b6210",
   "metadata": {},
   "source": [
    "First move: split the complete dataset to a training and test dataset again. Moreover, save the dependent and independent features in separated objects:"
   ]
  },
  {
   "cell_type": "code",
   "execution_count": 72,
   "id": "d872dea8",
   "metadata": {},
   "outputs": [],
   "source": [
    "X_train = complete_dataset.iloc[:train_dataset.shape[0], :].copy()\n",
    "X_train.drop(columns = [\"PassengerId\", \"Survived\"], axis = 1, inplace = True)"
   ]
  },
  {
   "cell_type": "code",
   "execution_count": 73,
   "id": "a7234d91",
   "metadata": {},
   "outputs": [],
   "source": [
    "y = complete_dataset.iloc[:train_dataset.shape[0], 1].copy()"
   ]
  },
  {
   "cell_type": "code",
   "execution_count": 74,
   "id": "88766405",
   "metadata": {},
   "outputs": [],
   "source": [
    "X_test = complete_dataset.iloc[train_dataset.shape[0]:, :].copy()\n",
    "X_test.drop(columns = [\"PassengerId\", \"Survived\"], axis = 1, inplace = True)"
   ]
  },
  {
   "cell_type": "markdown",
   "id": "1a09db0b",
   "metadata": {},
   "source": [
    "Save the `PassengerId` of the test dataset for the final submission:"
   ]
  },
  {
   "cell_type": "code",
   "execution_count": 75,
   "id": "b5dd50bd",
   "metadata": {},
   "outputs": [],
   "source": [
    "test_passengerid = complete_dataset.iloc[train_dataset.shape[0]:, 0].copy()"
   ]
  },
  {
   "cell_type": "code",
   "execution_count": null,
   "id": "f915b6b2",
   "metadata": {},
   "outputs": [],
   "source": []
  },
  {
   "cell_type": "markdown",
   "id": "b2a6edc2",
   "metadata": {},
   "source": [
    "## Modelling"
   ]
  },
  {
   "cell_type": "markdown",
   "id": "c1308299",
   "metadata": {},
   "source": [
    "Before starting with models, a validation strategy is defined. I will use a Stratified K-Fold Cross Validation with five folds:"
   ]
  },
  {
   "cell_type": "code",
   "execution_count": 78,
   "id": "7b169e92",
   "metadata": {},
   "outputs": [],
   "source": [
    "strat_cv_folds = StratifiedKFold(n_splits = 5, random_state = 69, shuffle = True)"
   ]
  },
  {
   "cell_type": "markdown",
   "id": "c3837bbd",
   "metadata": {},
   "source": [
    "Since the dependent feauture suffers from label imbalance, one cannot simply rely on accuracy. Hence, I will primarily use the F1-score for evaluation:"
   ]
  },
  {
   "cell_type": "code",
   "execution_count": 79,
   "id": "972086b4",
   "metadata": {},
   "outputs": [],
   "source": [
    "def model_f1_score(model, X = X_train, y = y):\n",
    "    model_acc = cross_val_score(model, X, y, cv = strat_cv_folds, scoring = \"f1\")\n",
    "    return model_acc"
   ]
  },
  {
   "cell_type": "markdown",
   "id": "e80b1d14",
   "metadata": {},
   "source": [
    "Finally, an empty dictionary is created to store all the models' accuracy scores:"
   ]
  },
  {
   "cell_type": "code",
   "execution_count": 80,
   "id": "caf63c1d",
   "metadata": {},
   "outputs": [],
   "source": [
    "model_scores = {}"
   ]
  },
  {
   "cell_type": "markdown",
   "id": "82e29ec1",
   "metadata": {},
   "source": [
    "### Dummy Classifier:"
   ]
  },
  {
   "cell_type": "markdown",
   "id": "e64ca0d0",
   "metadata": {},
   "source": [
    "My first model is a Dummy Classifier, which ignores the input data and therefore makes predictions without finding patterns in the data. By setting the parameter `strategy` the classifier will always predict the most frequent class (0, not survived in our case)."
   ]
  },
  {
   "cell_type": "code",
   "execution_count": 84,
   "id": "e0e560ec",
   "metadata": {},
   "outputs": [],
   "source": [
    "dummy_class = DummyClassifier(strategy = \"most_frequent\", random_state = 69)"
   ]
  },
  {
   "cell_type": "code",
   "execution_count": 85,
   "id": "5a6e20d2",
   "metadata": {},
   "outputs": [
    {
     "data": {
      "text/plain": [
       "0.0"
      ]
     },
     "execution_count": 85,
     "metadata": {},
     "output_type": "execute_result"
    }
   ],
   "source": [
    "model_f1_score(dummy_class).mean()"
   ]
  },
  {
   "cell_type": "markdown",
   "id": "b1c4d69e",
   "metadata": {},
   "source": [
    "The F1-Score is equal to zero (the reasons are discussed after making predictions)."
   ]
  },
  {
   "cell_type": "code",
   "execution_count": 86,
   "id": "8689ae91",
   "metadata": {},
   "outputs": [],
   "source": [
    "dummy_class_fitted = DummyClassifier(strategy = \"most_frequent\", random_state = 69).fit(X_train, y)"
   ]
  },
  {
   "cell_type": "code",
   "execution_count": 87,
   "id": "000ef236",
   "metadata": {},
   "outputs": [],
   "source": [
    "dummy_class_pred = dummy_class_fitted.predict(X_train)"
   ]
  },
  {
   "cell_type": "markdown",
   "id": "c7ead1b1",
   "metadata": {},
   "source": [
    "Lets take a look at the confusion matrix:"
   ]
  },
  {
   "cell_type": "code",
   "execution_count": 90,
   "id": "f005cccc",
   "metadata": {},
   "outputs": [
    {
     "name": "stdout",
     "output_type": "stream",
     "text": [
      "[[549   0]\n",
      " [342   0]]\n"
     ]
    }
   ],
   "source": [
    "print(confusion_matrix(y, dummy_class_pred))"
   ]
  },
  {
   "cell_type": "markdown",
   "id": "57c805d2",
   "metadata": {},
   "source": [
    "Explanation of the structure of the confusion matrix: https://scikit-learn.org/stable/modules/generated/sklearn.metrics.confusion_matrix.html\n",
    "\n",
    "For binary classifications, the confusion matrix is a 2x2 matrix:\n",
    "    \n",
    "    [[true negative   false positive]\n",
    "     [false negative  true positive]]"
   ]
  },
  {
   "cell_type": "markdown",
   "id": "d6ca95d2",
   "metadata": {},
   "source": [
    "The confusion matrix shows that the dummy classifier always predict the most frequent class (0) since the value in the upper left corner is equal to the number of data points belonging to the negative class. Moreover, is classifies 342 false negatives, 0 false positives and of course 0 true positives. Despite that nonsensical results, the model would achieve a quite good accuracy:"
   ]
  },
  {
   "cell_type": "code",
   "execution_count": 93,
   "id": "c17f6612",
   "metadata": {},
   "outputs": [
    {
     "data": {
      "text/plain": [
       "62.0"
      ]
     },
     "execution_count": 93,
     "metadata": {},
     "output_type": "execute_result"
    }
   ],
   "source": [
    "round(accuracy_score(y, dummy_class_pred), 2) * 100"
   ]
  },
  {
   "cell_type": "markdown",
   "id": "5fbcb496",
   "metadata": {},
   "source": [
    "It is possible to set `strategy` to \"stratified\" to control for the proportions of classes in the data. However, \"most_frequent\" is used to show that the label imbalance in the dependent features makes accucary a poor choice when it comes to model evaluation. The score is not saved as a comparison with the other models is redundant."
   ]
  },
  {
   "cell_type": "code",
   "execution_count": 94,
   "id": "589c4a85",
   "metadata": {},
   "outputs": [
    {
     "name": "stdout",
     "output_type": "stream",
     "text": [
      "              precision    recall  f1-score   support\n",
      "\n",
      "         0.0       0.62      1.00      0.76       549\n",
      "         1.0       0.00      0.00      0.00       342\n",
      "\n",
      "    accuracy                           0.62       891\n",
      "   macro avg       0.31      0.50      0.38       891\n",
      "weighted avg       0.38      0.62      0.47       891\n",
      "\n"
     ]
    }
   ],
   "source": [
    "print(classification_report(y, dummy_class_pred, zero_division = 0))"
   ]
  },
  {
   "cell_type": "markdown",
   "id": "b261a904",
   "metadata": {},
   "source": [
    "### K-Neighbors Classifier"
   ]
  },
  {
   "cell_type": "markdown",
   "id": "50de3958",
   "metadata": {},
   "source": [
    "The first \"real\" model is the simple K-Neighbors Classifier (without parameter tuning). The number of neighbors is set to the default value of 5:"
   ]
  },
  {
   "cell_type": "code",
   "execution_count": 96,
   "id": "208f5b87",
   "metadata": {},
   "outputs": [],
   "source": [
    "k_neighs = KNeighborsClassifier(n_jobs = -1)"
   ]
  },
  {
   "cell_type": "code",
   "execution_count": 97,
   "id": "3ecc114f",
   "metadata": {},
   "outputs": [
    {
     "data": {
      "text/plain": [
       "0.726755792568049"
      ]
     },
     "execution_count": 97,
     "metadata": {},
     "output_type": "execute_result"
    }
   ],
   "source": [
    "model_f1_score(k_neighs).mean()"
   ]
  },
  {
   "cell_type": "markdown",
   "id": "2717f79c",
   "metadata": {},
   "source": [
    "Following, the model is fitted. Using the model, I do make predictions:"
   ]
  },
  {
   "cell_type": "code",
   "execution_count": 98,
   "id": "26d9296a",
   "metadata": {},
   "outputs": [],
   "source": [
    "k_neighs_fitted = k_neighs.fit(X_train, y)"
   ]
  },
  {
   "cell_type": "code",
   "execution_count": 99,
   "id": "a56ccc6d",
   "metadata": {},
   "outputs": [],
   "source": [
    "k_neighs_pred = k_neighs_fitted.predict(X_train)"
   ]
  },
  {
   "cell_type": "markdown",
   "id": "645049b4",
   "metadata": {},
   "source": [
    "Before examining the F1-Score, the already known confusion matrix is generated again:"
   ]
  },
  {
   "cell_type": "code",
   "execution_count": 100,
   "id": "0da448bf",
   "metadata": {},
   "outputs": [
    {
     "name": "stdout",
     "output_type": "stream",
     "text": [
      "[[497  52]\n",
      " [ 86 256]]\n"
     ]
    }
   ],
   "source": [
    "print(confusion_matrix(y, k_neighs_pred))"
   ]
  },
  {
   "cell_type": "markdown",
   "id": "5f7008ed",
   "metadata": {},
   "source": [
    "We see that the model does perform better on a large scale compared to the Dummy Classifier. However, false positives and false negatives seem to be quite high. I assume other models could improve on that. Next, the F1-Score is saved for model comparisons:"
   ]
  },
  {
   "cell_type": "code",
   "execution_count": 101,
   "id": "97c22466",
   "metadata": {},
   "outputs": [],
   "source": [
    "model_scores[\"K-Neighbors\"] = f1_score(y, k_neighs_pred)"
   ]
  },
  {
   "cell_type": "code",
   "execution_count": 102,
   "id": "4c4b8c57",
   "metadata": {
    "scrolled": true
   },
   "outputs": [
    {
     "data": {
      "text/plain": [
       "78.8"
      ]
     },
     "execution_count": 102,
     "metadata": {},
     "output_type": "execute_result"
    }
   ],
   "source": [
    "round(model_scores[\"K-Neighbors\"], 3) * 100"
   ]
  },
  {
   "cell_type": "markdown",
   "id": "46d8ad2b",
   "metadata": {},
   "source": [
    "Since the Dummy Classifier is dismissed for further comparions, the K-Neighbors Classifier will serve as baseline model."
   ]
  },
  {
   "cell_type": "markdown",
   "id": "fa8c00e3",
   "metadata": {},
   "source": [
    "### Logistic Regression"
   ]
  },
  {
   "cell_type": "markdown",
   "id": "3a8eff38",
   "metadata": {},
   "source": [
    "The next model is a Logistic Regression, which is a linear model for classification. I do start with a plain model without parameter tuning:"
   ]
  },
  {
   "cell_type": "code",
   "execution_count": 103,
   "id": "7481f862",
   "metadata": {},
   "outputs": [],
   "source": [
    "log_reg = LogisticRegression(random_state = 69, max_iter = 100000, n_jobs = -1)"
   ]
  },
  {
   "cell_type": "code",
   "execution_count": 104,
   "id": "2839fa91",
   "metadata": {},
   "outputs": [
    {
     "data": {
      "text/plain": [
       "0.7484412478275452"
      ]
     },
     "execution_count": 104,
     "metadata": {},
     "output_type": "execute_result"
    }
   ],
   "source": [
    "model_f1_score(log_reg).mean()"
   ]
  },
  {
   "cell_type": "markdown",
   "id": "a2f73b7b",
   "metadata": {},
   "source": [
    "Fitting and predicting:"
   ]
  },
  {
   "cell_type": "code",
   "execution_count": 105,
   "id": "9843d6d6",
   "metadata": {},
   "outputs": [],
   "source": [
    "log_reg_fitted = log_reg.fit(X_train, y)"
   ]
  },
  {
   "cell_type": "code",
   "execution_count": 106,
   "id": "bb38e3bf",
   "metadata": {},
   "outputs": [],
   "source": [
    "log_reg_pred = log_reg_fitted.predict(X_train)"
   ]
  },
  {
   "cell_type": "markdown",
   "id": "6df51ba1",
   "metadata": {},
   "source": [
    "How does the confusion matrix look like?"
   ]
  },
  {
   "cell_type": "code",
   "execution_count": 107,
   "id": "cc27097a",
   "metadata": {},
   "outputs": [
    {
     "name": "stdout",
     "output_type": "stream",
     "text": [
      "[[487  62]\n",
      " [ 95 247]]\n"
     ]
    }
   ],
   "source": [
    "print(confusion_matrix(y, log_reg_pred))"
   ]
  },
  {
   "cell_type": "markdown",
   "id": "35199a93",
   "metadata": {},
   "source": [
    "The confusion matrices of both K-Neighbors and Logistic Regression do look almost identical. Does the same apply for the F1-Score?"
   ]
  },
  {
   "cell_type": "code",
   "execution_count": 108,
   "id": "c3cda34b",
   "metadata": {},
   "outputs": [],
   "source": [
    "model_scores[\"LogReg\"] = f1_score(y, log_reg_pred)"
   ]
  },
  {
   "cell_type": "code",
   "execution_count": 109,
   "id": "84f8715b",
   "metadata": {},
   "outputs": [
    {
     "data": {
      "text/plain": [
       "75.9"
      ]
     },
     "execution_count": 109,
     "metadata": {},
     "output_type": "execute_result"
    }
   ],
   "source": [
    "round(model_scores[\"LogReg\"], 3) * 100"
   ]
  },
  {
   "cell_type": "markdown",
   "id": "a8ec6b43",
   "metadata": {},
   "source": [
    "Compared to the K-Neighbors model the Logistic Regression yields a slightly lower F1-Score."
   ]
  },
  {
   "cell_type": "markdown",
   "id": "62c496ae",
   "metadata": {},
   "source": [
    "### Linear Support Vector Classifier"
   ]
  },
  {
   "cell_type": "markdown",
   "id": "62ed8e0a",
   "metadata": {},
   "source": [
    "Similar to the Logistic Regression, the Linear Support Vector Classifier belongs to the class of linear models."
   ]
  },
  {
   "cell_type": "code",
   "execution_count": 110,
   "id": "beab23ec",
   "metadata": {},
   "outputs": [],
   "source": [
    "support_vc = LinearSVC(random_state = 69, max_iter = 100000)"
   ]
  },
  {
   "cell_type": "code",
   "execution_count": 111,
   "id": "caa02481",
   "metadata": {},
   "outputs": [
    {
     "data": {
      "text/plain": [
       "0.7557589236456409"
      ]
     },
     "execution_count": 111,
     "metadata": {},
     "output_type": "execute_result"
    }
   ],
   "source": [
    "model_f1_score(support_vc).mean()"
   ]
  },
  {
   "cell_type": "markdown",
   "id": "f10d3ceb",
   "metadata": {},
   "source": [
    "Next, predictions are generated:"
   ]
  },
  {
   "cell_type": "code",
   "execution_count": 112,
   "id": "17e66c07",
   "metadata": {},
   "outputs": [],
   "source": [
    "support_vc_fitted = support_vc.fit(X_train, y)"
   ]
  },
  {
   "cell_type": "code",
   "execution_count": 113,
   "id": "005016cd",
   "metadata": {},
   "outputs": [],
   "source": [
    "support_vc_pred = support_vc_fitted.predict(X_train)"
   ]
  },
  {
   "cell_type": "code",
   "execution_count": 114,
   "id": "1ddd1629",
   "metadata": {},
   "outputs": [
    {
     "name": "stdout",
     "output_type": "stream",
     "text": [
      "[[486  63]\n",
      " [ 87 255]]\n"
     ]
    }
   ],
   "source": [
    "print(confusion_matrix(y, support_vc_pred))"
   ]
  },
  {
   "cell_type": "markdown",
   "id": "64766b5c",
   "metadata": {},
   "source": [
    "See comments on the confusion matrix for the Logistic Regression."
   ]
  },
  {
   "cell_type": "code",
   "execution_count": 115,
   "id": "6169ace6",
   "metadata": {},
   "outputs": [],
   "source": [
    "model_scores[\"SVC\"] = f1_score(y, support_vc_pred)"
   ]
  },
  {
   "cell_type": "code",
   "execution_count": 116,
   "id": "4f1df2ea",
   "metadata": {},
   "outputs": [
    {
     "data": {
      "text/plain": [
       "77.3"
      ]
     },
     "execution_count": 116,
     "metadata": {},
     "output_type": "execute_result"
    }
   ],
   "source": [
    "round(model_scores[\"SVC\"], 3) * 100"
   ]
  },
  {
   "cell_type": "markdown",
   "id": "06512fc9",
   "metadata": {},
   "source": [
    "F1-Score is almost the same as for the K-Neighbors Classifier."
   ]
  },
  {
   "cell_type": "markdown",
   "id": "a7ff2d40",
   "metadata": {},
   "source": [
    "### (Gaussian) Naive Bayes"
   ]
  },
  {
   "cell_type": "markdown",
   "id": "ed981c92",
   "metadata": {},
   "source": [
    "Before turning to tree-based models, a (Gaussian) Naive Bayes Classifer is fitted to the data:"
   ]
  },
  {
   "cell_type": "code",
   "execution_count": 117,
   "id": "9a8cf12b",
   "metadata": {},
   "outputs": [],
   "source": [
    "naive_bayes = GaussianNB()"
   ]
  },
  {
   "cell_type": "code",
   "execution_count": 118,
   "id": "3306b268",
   "metadata": {},
   "outputs": [
    {
     "data": {
      "text/plain": [
       "0.7229812932530774"
      ]
     },
     "execution_count": 118,
     "metadata": {},
     "output_type": "execute_result"
    }
   ],
   "source": [
    "model_f1_score(naive_bayes).mean()"
   ]
  },
  {
   "cell_type": "markdown",
   "id": "e455a411",
   "metadata": {},
   "source": [
    "Predictions and confusion matrix:"
   ]
  },
  {
   "cell_type": "code",
   "execution_count": 119,
   "id": "cd77a025",
   "metadata": {},
   "outputs": [],
   "source": [
    "naive_bayes_fitted = naive_bayes.fit(X_train, y)"
   ]
  },
  {
   "cell_type": "code",
   "execution_count": 120,
   "id": "851dada1",
   "metadata": {},
   "outputs": [],
   "source": [
    "naive_bayes_pred = naive_bayes_fitted.predict(X_train)"
   ]
  },
  {
   "cell_type": "code",
   "execution_count": 121,
   "id": "2c5c7ffc",
   "metadata": {},
   "outputs": [
    {
     "name": "stdout",
     "output_type": "stream",
     "text": [
      "[[433 116]\n",
      " [ 79 263]]\n"
     ]
    }
   ],
   "source": [
    "print(confusion_matrix(y, naive_bayes_pred))"
   ]
  },
  {
   "cell_type": "markdown",
   "id": "659b9369",
   "metadata": {},
   "source": [
    "The Naive Bayes Classifies tends to produce more false positives relative to the other models. That should be reflected in a lower F1-Score."
   ]
  },
  {
   "cell_type": "code",
   "execution_count": 122,
   "id": "50d50b6e",
   "metadata": {},
   "outputs": [],
   "source": [
    "model_scores[\"NaiveBayes\"] = f1_score(y, naive_bayes_pred)"
   ]
  },
  {
   "cell_type": "code",
   "execution_count": 123,
   "id": "9cbb84bd",
   "metadata": {},
   "outputs": [
    {
     "data": {
      "text/plain": [
       "73.0"
      ]
     },
     "execution_count": 123,
     "metadata": {},
     "output_type": "execute_result"
    }
   ],
   "source": [
    "round(model_scores[\"NaiveBayes\"], 3) * 100"
   ]
  },
  {
   "cell_type": "markdown",
   "id": "91351c04",
   "metadata": {},
   "source": [
    "As assumed, this model yiels the lowest F1-Score (up to this point of our examination)."
   ]
  },
  {
   "cell_type": "markdown",
   "id": "df7ae0c1",
   "metadata": {},
   "source": [
    "### Decision Tree Classifier"
   ]
  },
  {
   "cell_type": "markdown",
   "id": "50c890e3",
   "metadata": {},
   "source": [
    "After using neighbors and linear relations for classfication, we turn to tree-based classifier. First in line: the Decision Tree. As for the previous model, I do create a \"naked\" model:"
   ]
  },
  {
   "cell_type": "code",
   "execution_count": 124,
   "id": "15e5d811",
   "metadata": {},
   "outputs": [],
   "source": [
    "dec_tree = DecisionTreeClassifier(random_state = 69)"
   ]
  },
  {
   "cell_type": "code",
   "execution_count": 125,
   "id": "4b12868a",
   "metadata": {},
   "outputs": [
    {
     "data": {
      "text/plain": [
       "0.7039989973793442"
      ]
     },
     "execution_count": 125,
     "metadata": {},
     "output_type": "execute_result"
    }
   ],
   "source": [
    "model_f1_score(dec_tree).mean()"
   ]
  },
  {
   "cell_type": "markdown",
   "id": "3945c17c",
   "metadata": {},
   "source": [
    "Next, predictions are generated and the confusion matrix is examined:"
   ]
  },
  {
   "cell_type": "code",
   "execution_count": 126,
   "id": "a0a1386c",
   "metadata": {},
   "outputs": [],
   "source": [
    "dec_tree_fitted = DecisionTreeClassifier(random_state = 69).fit(X_train, y)"
   ]
  },
  {
   "cell_type": "code",
   "execution_count": 127,
   "id": "d789b2a5",
   "metadata": {},
   "outputs": [],
   "source": [
    "dec_tree_pred = dec_tree_fitted.predict(X_train)"
   ]
  },
  {
   "cell_type": "code",
   "execution_count": 128,
   "id": "aae43905",
   "metadata": {},
   "outputs": [
    {
     "name": "stdout",
     "output_type": "stream",
     "text": [
      "[[530  19]\n",
      " [103 239]]\n"
     ]
    }
   ],
   "source": [
    "print(confusion_matrix(y, dec_tree_pred))"
   ]
  },
  {
   "cell_type": "markdown",
   "id": "f58fcb77",
   "metadata": {},
   "source": [
    "The Decision Tree is able to classify almost all of the negative classes. However, it produces a lot of false negatives."
   ]
  },
  {
   "cell_type": "code",
   "execution_count": 129,
   "id": "2e1d88f6",
   "metadata": {},
   "outputs": [],
   "source": [
    "model_scores[\"DecTree\"] = f1_score(y, dec_tree_pred)"
   ]
  },
  {
   "cell_type": "code",
   "execution_count": 130,
   "id": "a994096d",
   "metadata": {},
   "outputs": [
    {
     "data": {
      "text/plain": [
       "79.7"
      ]
     },
     "execution_count": 130,
     "metadata": {},
     "output_type": "execute_result"
    }
   ],
   "source": [
    "round(model_scores[\"DecTree\"], 3) * 100"
   ]
  },
  {
   "cell_type": "markdown",
   "id": "6b53987c",
   "metadata": {},
   "source": [
    "Despite the large fraction of false negatives, the F1-Score is the highest compared to all introduced models."
   ]
  },
  {
   "cell_type": "markdown",
   "id": "3f4db88d",
   "metadata": {},
   "source": [
    "### Random Forest Classifier"
   ]
  },
  {
   "cell_type": "markdown",
   "id": "beb88daa",
   "metadata": {},
   "source": [
    "The next tree-based classifer is the Random Forest. Lets start with a model without parameter tuning:"
   ]
  },
  {
   "cell_type": "code",
   "execution_count": 131,
   "id": "3c2baa00",
   "metadata": {},
   "outputs": [],
   "source": [
    "random_forest = RandomForestClassifier(random_state = 69, n_jobs = -1)"
   ]
  },
  {
   "cell_type": "code",
   "execution_count": 132,
   "id": "ef56a87c",
   "metadata": {},
   "outputs": [
    {
     "data": {
      "text/plain": [
       "0.711814738292011"
      ]
     },
     "execution_count": 132,
     "metadata": {},
     "output_type": "execute_result"
    }
   ],
   "source": [
    "model_f1_score(random_forest).mean()"
   ]
  },
  {
   "cell_type": "markdown",
   "id": "728e7910",
   "metadata": {},
   "source": [
    "Next, predictions are generated and the confusion matrix is examined:"
   ]
  },
  {
   "cell_type": "code",
   "execution_count": 133,
   "id": "b373d2e8",
   "metadata": {},
   "outputs": [],
   "source": [
    "random_forest_fitted = RandomForestClassifier(random_state = 69, n_jobs = -1).fit(X_train, y)"
   ]
  },
  {
   "cell_type": "code",
   "execution_count": 134,
   "id": "0c550c89",
   "metadata": {},
   "outputs": [],
   "source": [
    "random_forest_pred = random_forest_fitted.predict(X_train)"
   ]
  },
  {
   "cell_type": "code",
   "execution_count": 135,
   "id": "65505b00",
   "metadata": {},
   "outputs": [
    {
     "name": "stdout",
     "output_type": "stream",
     "text": [
      "[[524  25]\n",
      " [ 97 245]]\n"
     ]
    }
   ],
   "source": [
    "print(confusion_matrix(y, random_forest_pred))"
   ]
  },
  {
   "cell_type": "markdown",
   "id": "b5bed0c9",
   "metadata": {},
   "source": [
    "Results are similar to that of the single Decision Tree. "
   ]
  },
  {
   "cell_type": "code",
   "execution_count": 136,
   "id": "11379b80",
   "metadata": {},
   "outputs": [],
   "source": [
    "model_scores[\"RandForest\"] = f1_score(y, random_forest_pred)"
   ]
  },
  {
   "cell_type": "code",
   "execution_count": 137,
   "id": "aaae671f",
   "metadata": {},
   "outputs": [
    {
     "data": {
      "text/plain": [
       "80.10000000000001"
      ]
     },
     "execution_count": 137,
     "metadata": {},
     "output_type": "execute_result"
    }
   ],
   "source": [
    "round(model_scores[\"RandForest\"], 3) * 100"
   ]
  },
  {
   "cell_type": "markdown",
   "id": "330d3229",
   "metadata": {},
   "source": [
    "The Random Forest yields almost the same F1-score as the single Decision Tree."
   ]
  },
  {
   "cell_type": "markdown",
   "id": "dce721c2",
   "metadata": {},
   "source": [
    "### Extreme Gradient Boosting"
   ]
  },
  {
   "cell_type": "markdown",
   "id": "7a1217c7",
   "metadata": {},
   "source": [
    "Lastly, we utilize the Extreme Gradient Boosting model."
   ]
  },
  {
   "cell_type": "code",
   "execution_count": 138,
   "id": "b6370b1f",
   "metadata": {},
   "outputs": [],
   "source": [
    "xgb_class = xgb.XGBClassifier(objective = \"binary:logistic\", eval_metric = \"logloss\", random_state = 69, n_jobs = -1,\n",
    "                             use_label_encoder = False)"
   ]
  },
  {
   "cell_type": "code",
   "execution_count": 139,
   "id": "3c2431c3",
   "metadata": {},
   "outputs": [
    {
     "data": {
      "text/plain": [
       "0.7234486131709319"
      ]
     },
     "execution_count": 139,
     "metadata": {},
     "output_type": "execute_result"
    }
   ],
   "source": [
    "model_f1_score(xgb_class).mean()"
   ]
  },
  {
   "cell_type": "markdown",
   "id": "c32283bc",
   "metadata": {},
   "source": [
    "Already known procedure: make predictions, inspect confusion matrix and save the F1-Score."
   ]
  },
  {
   "cell_type": "code",
   "execution_count": 140,
   "id": "2d8c9c2e",
   "metadata": {},
   "outputs": [],
   "source": [
    "xgb_class_fitted = xgb.XGBClassifier(objective = \"binary:logistic\", eval_metric = \"logloss\", random_state = 69, n_jobs = -1,\n",
    "                             use_label_encoder = False).fit(X_train, y)"
   ]
  },
  {
   "cell_type": "code",
   "execution_count": 141,
   "id": "a0b24684",
   "metadata": {},
   "outputs": [],
   "source": [
    "xgb_class_pred = xgb_class_fitted.predict(X_train)"
   ]
  },
  {
   "cell_type": "code",
   "execution_count": 142,
   "id": "e8050d90",
   "metadata": {},
   "outputs": [
    {
     "name": "stdout",
     "output_type": "stream",
     "text": [
      "[[521  28]\n",
      " [ 95 247]]\n"
     ]
    }
   ],
   "source": [
    "print(confusion_matrix(y, xgb_class_pred))"
   ]
  },
  {
   "cell_type": "markdown",
   "id": "012dbb82",
   "metadata": {},
   "source": [
    "Basically the same as observed for the Random Forest."
   ]
  },
  {
   "cell_type": "code",
   "execution_count": 143,
   "id": "3cf78ec4",
   "metadata": {},
   "outputs": [],
   "source": [
    "model_scores[\"XGB\"] = f1_score(y, xgb_class_pred)"
   ]
  },
  {
   "cell_type": "code",
   "execution_count": 144,
   "id": "32eb6869",
   "metadata": {},
   "outputs": [
    {
     "data": {
      "text/plain": [
       "80.10000000000001"
      ]
     },
     "execution_count": 144,
     "metadata": {},
     "output_type": "execute_result"
    }
   ],
   "source": [
    "round(model_scores[\"XGB\"], 3) * 100"
   ]
  },
  {
   "cell_type": "markdown",
   "id": "206e9389",
   "metadata": {},
   "source": [
    "See comment on the confusion matrix for the random forest."
   ]
  },
  {
   "cell_type": "markdown",
   "id": "253f229a",
   "metadata": {},
   "source": [
    "### Model comparison"
   ]
  },
  {
   "cell_type": "markdown",
   "id": "3782b1f7",
   "metadata": {},
   "source": [
    "In the following, models are compared with respect to their F1-Scores. The model with the highest score will be used to generate predictions using the test dataset. "
   ]
  },
  {
   "cell_type": "code",
   "execution_count": 145,
   "id": "0ad87f96",
   "metadata": {},
   "outputs": [],
   "source": [
    "model_scores = dict(sorted(model_scores.items(), key = lambda x: x[1], reverse = False))"
   ]
  },
  {
   "cell_type": "code",
   "execution_count": 146,
   "id": "be0226ea",
   "metadata": {},
   "outputs": [
    {
     "name": "stdout",
     "output_type": "stream",
     "text": [
      "Model with the highest F1-Score: RandForest\n",
      "F1-Score: 80.0 %\n"
     ]
    }
   ],
   "source": [
    "print(f\"Model with the highest F1-Score: {list(model_scores.keys())[-1]}\")\n",
    "print(f\"F1-Score: {round(list(model_scores.values())[-1], 2) * 100} %\")"
   ]
  },
  {
   "cell_type": "code",
   "execution_count": 147,
   "id": "6d77fc18",
   "metadata": {},
   "outputs": [
    {
     "data": {
      "image/png": "[encoded data removed]",
      "text/plain": [
       "<Figure size 1152x432 with 1 Axes>"
      ]
     },
     "metadata": {
      "needs_background": "light"
     },
     "output_type": "display_data"
    }
   ],
   "source": [
    "plt.figure(figsize = (16, 6))\n",
    "plt.bar(model_scores.keys(), model_scores.values())\n",
    "plt.title(\"Model Comparison: what model yields the highest F1-Score?\")\n",
    "plt.ylim(0.70, 0.81)\n",
    "plt.show()"
   ]
  },
  {
   "cell_type": "markdown",
   "id": "ad5c2723",
   "metadata": {},
   "source": [
    "As indicated by the chart, the tree-based models do outperform all other models. Altough the performance of all tree-based classifier is almost equal, the Random Forest will be my final model. The choice is mainly driven by two arguments:\n",
    "* It is easier to tune relative to the XGB. Before predicting the final results using the test data, I will try to optimize the Random Forest model by tuning the hyperparameters. To do so, the handy GridSeachCV package is used.\n",
    "* The Random Forest is less prone to overfitting when compared to a single Decision Tree. This increases the probability of more generalized predictions."
   ]
  },
  {
   "cell_type": "markdown",
   "id": "9464c38e",
   "metadata": {},
   "source": [
    "### Parameter tuning"
   ]
  },
  {
   "cell_type": "markdown",
   "id": "0619fc8f",
   "metadata": {},
   "source": [
    "For hyperparameter tuning a dictionary object with all parameters we want to tune is created. According to `Introduction to Machine Leaning with Python` by Sandra Guido and Andreas C. Müller, the Random Forest Classifier's most important parameters are `n_estimators` and `max_features`. Hence, both parameters will be tuned: "
   ]
  },
  {
   "cell_type": "code",
   "execution_count": 148,
   "id": "4dc9d2d8",
   "metadata": {},
   "outputs": [],
   "source": [
    "rnd_forest_params = {'n_estimators': [100, 250, 500, 1000, 2000, 3000], 'max_features': [None, \"sqrt\", \"log2\"]}"
   ]
  },
  {
   "cell_type": "code",
   "execution_count": 149,
   "id": "a1c3e7b6",
   "metadata": {},
   "outputs": [],
   "source": [
    "random_forest_GS = GridSearchCV(random_forest, param_grid = rnd_forest_params, cv = strat_cv_folds, scoring = \"f1\")"
   ]
  },
  {
   "cell_type": "code",
   "execution_count": 150,
   "id": "7b0414e3",
   "metadata": {},
   "outputs": [],
   "source": [
    "random_forest_GS_fitted = random_forest_GS.fit(X_train, y)"
   ]
  },
  {
   "cell_type": "markdown",
   "id": "87b9d0d3",
   "metadata": {},
   "source": [
    "The results are examined to choose the best parameters:"
   ]
  },
  {
   "cell_type": "code",
   "execution_count": 151,
   "id": "cefe3454",
   "metadata": {},
   "outputs": [],
   "source": [
    "gs_results = pd.DataFrame(random_forest_GS_fitted.cv_results_)"
   ]
  },
  {
   "cell_type": "code",
   "execution_count": 152,
   "id": "44b2bc84",
   "metadata": {},
   "outputs": [],
   "source": [
    "# gs_results.T"
   ]
  },
  {
   "cell_type": "code",
   "execution_count": 153,
   "id": "e268cbc1",
   "metadata": {},
   "outputs": [],
   "source": [
    "gs_mean_scores = np.array(gs_results.mean_test_score).reshape(3, 6)"
   ]
  },
  {
   "cell_type": "code",
   "execution_count": 154,
   "id": "e4c0a6df",
   "metadata": {
    "scrolled": false
   },
   "outputs": [
    {
     "data": {
      "image/png": "[encoded data removed]",
      "text/plain": [
       "<Figure size 1152x432 with 2 Axes>"
      ]
     },
     "metadata": {
      "needs_background": "light"
     },
     "output_type": "display_data"
    }
   ],
   "source": [
    "fig, ax = plt.subplots(figsize = (16, 6))\n",
    "sns.heatmap(gs_mean_scores, xticklabels = rnd_forest_params[\"n_estimators\"],\n",
    "            yticklabels = [\"None\"] + rnd_forest_params[\"max_features\"][1:],\n",
    "            linecolor = \"red\", linewidths = 1, cmap = \"viridis\", ax = ax)\n",
    "ax.set_xlabel(\"n_estimators\")\n",
    "ax.set_ylabel(\"max_features\")\n",
    "plt.show()"
   ]
  },
  {
   "cell_type": "markdown",
   "id": "88793fa5",
   "metadata": {},
   "source": [
    "As indicated, an increasing number of estimators and `max_features` set to `None` yield the best results. However, the examination of the result dataframe shows that the increase in the mean score between `n_estimators` equal to 2,000 and 3,000 is marginal. Considerung the computational time, the final model has `n_estimator` set to 2,000 and `max_features` to `None`:"
   ]
  },
  {
   "cell_type": "code",
   "execution_count": 155,
   "id": "41121ad3",
   "metadata": {},
   "outputs": [],
   "source": [
    "final_model = RandomForestClassifier(n_estimators = 2000, max_features = None, random_state = 69,\n",
    "                                             n_jobs = -1).fit(X_train, y)"
   ]
  },
  {
   "cell_type": "markdown",
   "id": "3b43ac51",
   "metadata": {},
   "source": [
    "### Alternative: Ensemble Model"
   ]
  },
  {
   "cell_type": "markdown",
   "id": "f71d70b1",
   "metadata": {},
   "source": [
    "Use all models (except the Naive Bayes) to generate predicitions using the test data:"
   ]
  },
  {
   "cell_type": "code",
   "execution_count": 156,
   "id": "157fb28a",
   "metadata": {},
   "outputs": [],
   "source": [
    "k_neighs_pred_test = pd.Series(k_neighs_fitted.predict(X_test), name = \"KNeigh\")\n",
    "log_reg_pred_test = pd.Series(log_reg_fitted.predict(X_test), name = \"LogReg\")\n",
    "support_vc_pred_test = pd.Series(support_vc_fitted.predict(X_test), name = \"SVC\")\n",
    "dec_tree_pred_test = pd.Series(dec_tree_fitted.predict(X_test), name = \"DecTree\")\n",
    "random_forest_pred_test = pd.Series(random_forest_fitted.predict(X_test), name = \"RndForest\")\n",
    "xgb_class_pred_test = pd.Series(xgb_class_fitted.predict(X_test), name = \"XGB\")"
   ]
  },
  {
   "cell_type": "markdown",
   "id": "5c18155f",
   "metadata": {},
   "source": [
    "Examine the correlation between the predictions of all models:"
   ]
  },
  {
   "cell_type": "code",
   "execution_count": 157,
   "id": "bd3ef2fc",
   "metadata": {},
   "outputs": [],
   "source": [
    "pred_test = pd.concat([k_neighs_pred_test, log_reg_pred_test, support_vc_pred_test,\n",
    "                       xgb_class_pred_test, dec_tree_pred_test, random_forest_pred_test], axis = 1)"
   ]
  },
  {
   "cell_type": "code",
   "execution_count": 158,
   "id": "773b8737",
   "metadata": {},
   "outputs": [
    {
     "data": {
      "image/png": "[encoded data removed]",
      "text/plain": [
       "<Figure size 1152x432 with 2 Axes>"
      ]
     },
     "metadata": {
      "needs_background": "light"
     },
     "output_type": "display_data"
    }
   ],
   "source": [
    "fig, ax = plt.subplots(figsize = (16, 6))\n",
    "sns.heatmap(pred_test.corr(), annot = True, ax = ax)\n",
    "plt.show()"
   ]
  },
  {
   "cell_type": "markdown",
   "id": "c14bfb7a",
   "metadata": {},
   "source": [
    "There are some differences (correlation < 1). Hence, all models are combined in one big Ensemble Models:"
   ]
  },
  {
   "cell_type": "code",
   "execution_count": 161,
   "id": "dace8843",
   "metadata": {},
   "outputs": [],
   "source": [
    "final_model = VotingClassifier(estimators = [('kneigh', k_neighs_fitted), ('logreg', log_reg_fitted),\n",
    "                                             ('svc', support_vc_fitted), ('xgb', xgb_class_fitted),\n",
    "                                             ('dectree', dec_tree_fitted), ('rndforest', random_forest_fitted)],\n",
    "                              voting = 'hard', n_jobs = -1).fit(X_train, y)"
   ]
  },
  {
   "cell_type": "markdown",
   "id": "3e0fa08c",
   "metadata": {},
   "source": [
    "## Preprations for submission:"
   ]
  },
  {
   "cell_type": "markdown",
   "id": "b343f801",
   "metadata": {},
   "source": [
    "Generate predictions using the tuned model and the test dataset:"
   ]
  },
  {
   "cell_type": "code",
   "execution_count": 162,
   "id": "f1cad5e8",
   "metadata": {},
   "outputs": [],
   "source": [
    "final_pred = final_model.predict(X_test)"
   ]
  },
  {
   "cell_type": "markdown",
   "id": "d20ece57",
   "metadata": {},
   "source": [
    "For submission a DataFrame with the test dataset IDs and the predictions is created:"
   ]
  },
  {
   "cell_type": "code",
   "execution_count": 163,
   "id": "d8247dc1",
   "metadata": {},
   "outputs": [],
   "source": [
    "submission_array = np.array([test_passengerid.to_list(), final_pred.astype(\"int\").tolist()]).T"
   ]
  },
  {
   "cell_type": "code",
   "execution_count": 164,
   "id": "42ce9f1b",
   "metadata": {},
   "outputs": [],
   "source": [
    "submission_df = pd.DataFrame(submission_array, columns = [\"PassengerId\", \"Survived\"])"
   ]
  },
  {
   "cell_type": "code",
   "execution_count": 165,
   "id": "88d26d3c",
   "metadata": {},
   "outputs": [],
   "source": [
    "submission_df.to_csv(\"kaggle_titanic_submission.csv\", columns = [\"PassengerId\", \"Survived\"], index = False)"
   ]
  },
  {
   "cell_type": "code",
   "execution_count": null,
   "id": "bfb6c053",
   "metadata": {},
   "outputs": [],
   "source": []
  }
 ],
 "metadata": {
  "kernelspec": {
   "display_name": "Python 3",
   "language": "python",
   "name": "python3"
  },
  "language_info": {
   "codemirror_mode": {
    "name": "ipython",
    "version": 3
   },
   "file_extension": ".py",
   "mimetype": "text/x-python",
   "name": "python",
   "nbconvert_exporter": "python",
   "pygments_lexer": "ipython3",
   "version": "3.8.8"
  }
 },
 "nbformat": 4,
 "nbformat_minor": 5
}
