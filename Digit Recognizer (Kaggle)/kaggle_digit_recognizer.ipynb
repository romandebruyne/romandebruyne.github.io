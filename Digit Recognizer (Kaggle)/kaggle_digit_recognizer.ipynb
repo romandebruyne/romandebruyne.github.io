{
 "cells": [
  {
   "cell_type": "markdown",
   "id": "87db3d7d",
   "metadata": {},
   "source": [
    "# Kaggle Competition - Digit Recognizer"
   ]
  },
  {
   "cell_type": "markdown",
   "id": "bbef610f",
   "metadata": {},
   "source": [
    "The code in this notebook was created to participate in the **Digit Recognizer** competition on kaggle.com (https://www.kaggle.com/competitions/digit-recognizer). To be honest, the notebook just contains as much code as required to get first results. Especially the part related to model building is reduced to a minimum. However, feel free to use this code as starting point for your own attempt to recognize the digits."
   ]
  },
  {
   "cell_type": "markdown",
   "id": "facdc39a",
   "metadata": {},
   "source": [
    "## Data"
   ]
  },
  {
   "cell_type": "markdown",
   "id": "3b27ac92",
   "metadata": {},
   "source": [
    "*Copy-pasted from `https://www.kaggle.com/c/digit-recognizer/data?select=test.csv`.*\n",
    "\n",
    "The data files train.csv and test.csv contain gray-scale images of hand-drawn digits, from zero through nine.\n",
    "\n",
    "* Each image is 28 pixels in height and 28 pixels in width, for a total of 784 pixels in total. Each pixel has a single pixel-value associated with it, indicating the lightness or darkness of that pixel, with higher numbers meaning darker. This pixel-value is an integer between 0 and 255, inclusive.\n",
    "\n",
    "* The training data set has 785 columns. The first column, called \"label\", is the digit that was drawn by the user. The rest of the columns contain the pixel-values of the associated image.\n",
    "\n",
    "* Each pixel column in the training set has a name like pixelx, where x is an integer between 0 and 783, inclusive. To locate this pixel on the image, suppose that we have decomposed x as x = i * 28 + j, where i and j are integers between 0 and 27, inclusive. Then pixelx is located on row i and column j of a 28 x 28 matrix, (indexing by zero).\n",
    "    * For example, pixel31 indicates the pixel that is in the fourth column from the left.\n",
    "    \n",
    "* The test data set, (test.csv), is the same as the training set, except that it does not contain the \"label\" column."
   ]
  },
  {
   "cell_type": "markdown",
   "id": "d7bf7c93",
   "metadata": {},
   "source": [
    "## Start of the project"
   ]
  },
  {
   "cell_type": "markdown",
   "id": "b1de8dc0",
   "metadata": {},
   "source": [
    "### Importing modules and datasets:"
   ]
  },
  {
   "cell_type": "code",
   "execution_count": 2,
   "id": "c3da252e",
   "metadata": {},
   "outputs": [],
   "source": [
    "import pandas as pd\n",
    "import numpy as np"
   ]
  },
  {
   "cell_type": "code",
   "execution_count": 3,
   "id": "9630d64c",
   "metadata": {},
   "outputs": [],
   "source": [
    "import matplotlib.pyplot as plt\n",
    "import seaborn as sns"
   ]
  },
  {
   "cell_type": "code",
   "execution_count": 22,
   "id": "45a4f310",
   "metadata": {},
   "outputs": [],
   "source": [
    "from sklearn.neighbors import KNeighborsClassifier\n",
    "from sklearn.svm import SVC\n",
    "from sklearn.tree import DecisionTreeClassifier\n",
    "from sklearn.ensemble import RandomForestClassifier\n",
    "from sklearn.model_selection import StratifiedKFold, cross_val_score\n",
    "from sklearn.metrics import accuracy_score, conf"
   ]
  },
  {
   "cell_type": "markdown",
   "id": "f5413943",
   "metadata": {},
   "source": [
    "Training and test dataset:"
   ]
  },
  {
   "cell_type": "code",
   "execution_count": 4,
   "id": "ee879071",
   "metadata": {},
   "outputs": [],
   "source": [
    "train_data = pd.read_csv(\"train.csv\")\n",
    "test_data = pd.read_csv(\"test.csv\")"
   ]
  },
  {
   "cell_type": "markdown",
   "id": "f8272c2b",
   "metadata": {},
   "source": [
    "Separate the labels from the pixels data in the training dataset:"
   ]
  },
  {
   "cell_type": "code",
   "execution_count": 5,
   "id": "d23c1abc",
   "metadata": {},
   "outputs": [],
   "source": [
    "y_train = train_data[\"label\"]\n",
    "train_data.drop(columns = [\"label\"], axis = 1, inplace = True)"
   ]
  },
  {
   "cell_type": "code",
   "execution_count": 6,
   "id": "031eb152",
   "metadata": {},
   "outputs": [],
   "source": [
    "X_train = train_data"
   ]
  },
  {
   "cell_type": "code",
   "execution_count": 7,
   "id": "69cdb5d9",
   "metadata": {},
   "outputs": [],
   "source": [
    "del train_data"
   ]
  },
  {
   "cell_type": "markdown",
   "id": "706bde18",
   "metadata": {},
   "source": [
    "Rename test dataset as only features are included:"
   ]
  },
  {
   "cell_type": "code",
   "execution_count": 8,
   "id": "720ee290",
   "metadata": {},
   "outputs": [],
   "source": [
    "X_test = test_data"
   ]
  },
  {
   "cell_type": "code",
   "execution_count": 9,
   "id": "f5adc429",
   "metadata": {},
   "outputs": [],
   "source": [
    "del test_data"
   ]
  },
  {
   "cell_type": "markdown",
   "id": "4f4afa4d",
   "metadata": {},
   "source": [
    "Inspect the shapes of both datasets:"
   ]
  },
  {
   "cell_type": "code",
   "execution_count": 10,
   "id": "eae0aa95",
   "metadata": {},
   "outputs": [
    {
     "name": "stdout",
     "output_type": "stream",
     "text": [
      "(42000,)\n",
      "(42000, 784)\n"
     ]
    }
   ],
   "source": [
    "print(y_train.shape)\n",
    "print(X_train.shape)"
   ]
  },
  {
   "cell_type": "code",
   "execution_count": 11,
   "id": "008bc0ef",
   "metadata": {},
   "outputs": [
    {
     "name": "stdout",
     "output_type": "stream",
     "text": [
      "(28000, 784)\n"
     ]
    }
   ],
   "source": [
    "print(X_test.shape)"
   ]
  },
  {
   "cell_type": "markdown",
   "id": "179f672d",
   "metadata": {},
   "source": [
    "## Exploratory Data Analysis:"
   ]
  },
  {
   "cell_type": "markdown",
   "id": "8cf1aa44",
   "metadata": {},
   "source": [
    "### Labels:"
   ]
  },
  {
   "cell_type": "code",
   "execution_count": 12,
   "id": "6eacf617",
   "metadata": {
    "scrolled": false
   },
   "outputs": [
    {
     "data": {
      "image/png": "[encoded data removed]",
      "text/plain": [
       "<Figure size 1152x432 with 1 Axes>"
      ]
     },
     "metadata": {
      "needs_background": "light"
     },
     "output_type": "display_data"
    }
   ],
   "source": [
    "fig, ax = plt.subplots(figsize = (16, 6))\n",
    "sns.countplot(x = y_train, ax = ax)\n",
    "plt.show()"
   ]
  },
  {
   "cell_type": "code",
   "execution_count": 14,
   "id": "e2e88079",
   "metadata": {},
   "outputs": [
    {
     "data": {
      "text/plain": [
       "0     9.838095\n",
       "1    11.152381\n",
       "2     9.945238\n",
       "3    10.359524\n",
       "4     9.695238\n",
       "5     9.035714\n",
       "6     9.850000\n",
       "7    10.478571\n",
       "8     9.673810\n",
       "9     9.971429\n",
       "Name: label, dtype: float64"
      ]
     },
     "execution_count": 14,
     "metadata": {},
     "output_type": "execute_result"
    }
   ],
   "source": [
    "y_train.value_counts(normalize = True, sort = False) * 100"
   ]
  },
  {
   "cell_type": "markdown",
   "id": "309a85f8",
   "metadata": {},
   "source": [
    "As indicated by the value counts all labels are balanced (represented by almost equal proportions)."
   ]
  },
  {
   "cell_type": "markdown",
   "id": "9196c6c3",
   "metadata": {},
   "source": [
    "### Handle missing values"
   ]
  },
  {
   "cell_type": "code",
   "execution_count": 15,
   "id": "5339a2cb",
   "metadata": {},
   "outputs": [
    {
     "name": "stdout",
     "output_type": "stream",
     "text": [
      "0\n"
     ]
    }
   ],
   "source": [
    "print(y_train.isna().sum())"
   ]
  },
  {
   "cell_type": "code",
   "execution_count": 16,
   "id": "d179e5ec",
   "metadata": {},
   "outputs": [
    {
     "name": "stdout",
     "output_type": "stream",
     "text": [
      "0\n",
      "0\n"
     ]
    }
   ],
   "source": [
    "print(sum(X_train.isna().sum()))\n",
    "print(sum(X_test.isna().sum()))"
   ]
  },
  {
   "cell_type": "markdown",
   "id": "f20bd11e",
   "metadata": {},
   "source": [
    "Luckily, the datasets contain no missing values. Hence, no further steps required."
   ]
  },
  {
   "cell_type": "markdown",
   "id": "dbca8e39",
   "metadata": {},
   "source": [
    "### Rescale data:"
   ]
  },
  {
   "cell_type": "markdown",
   "id": "9ac8a1c5",
   "metadata": {},
   "source": [
    "The features are scaled to a range between 0 and 1 instead of 0 and 255. This scaling is applied to ensure numeric stability:"
   ]
  },
  {
   "cell_type": "code",
   "execution_count": 17,
   "id": "11adb721",
   "metadata": {},
   "outputs": [],
   "source": [
    "X_train = X_train / 255.0\n",
    "X_test = X_test / 255.0"
   ]
  },
  {
   "cell_type": "markdown",
   "id": "b9047e0b",
   "metadata": {},
   "source": [
    "### Visualize some digits:"
   ]
  },
  {
   "cell_type": "markdown",
   "id": "41c2ccf2",
   "metadata": {},
   "source": [
    "To get a better understanding of the dataset, some digits are visualized:"
   ]
  },
  {
   "cell_type": "code",
   "execution_count": 18,
   "id": "03690b37",
   "metadata": {},
   "outputs": [],
   "source": [
    "first_digit = X_train.iloc[0, :]\n",
    "first_digit_shaped = np.array(first_digit).reshape(28, 28)"
   ]
  },
  {
   "cell_type": "code",
   "execution_count": 19,
   "id": "008a993d",
   "metadata": {},
   "outputs": [],
   "source": [
    "last_digit = X_train.iloc[-1, :]\n",
    "last_digit_shaped = np.array(last_digit).reshape(28, 28)"
   ]
  },
  {
   "cell_type": "code",
   "execution_count": 20,
   "id": "9e42cbbc",
   "metadata": {},
   "outputs": [
    {
     "data": {
      "image/png": "[encoded data removed]",
      "text/plain": [
       "<Figure size 864x432 with 2 Axes>"
      ]
     },
     "metadata": {
      "needs_background": "light"
     },
     "output_type": "display_data"
    }
   ],
   "source": [
    "fig, axes = plt.subplots(1, 2, figsize = (12, 6))\n",
    "axes[0].imshow(first_digit_shaped, cmap = \"Reds\")\n",
    "axes[1].imshow(last_digit_shaped, cmap = \"Reds\")\n",
    "plt.show()"
   ]
  },
  {
   "cell_type": "markdown",
   "id": "661dac1c",
   "metadata": {},
   "source": [
    "Digit in left plot looks a '1', while the right plot shows probably a '9'. Lets check by examine the labels:"
   ]
  },
  {
   "cell_type": "code",
   "execution_count": 21,
   "id": "b0637349",
   "metadata": {},
   "outputs": [
    {
     "name": "stdout",
     "output_type": "stream",
     "text": [
      "Left plot shows a: 1\n",
      "Right plot shows a: 9\n"
     ]
    }
   ],
   "source": [
    "print(f'Left plot shows a: {y_train.iloc[0]}')\n",
    "print(f'Right plot shows a: {y_train.iloc[-1]}')"
   ]
  },
  {
   "cell_type": "markdown",
   "id": "31534651",
   "metadata": {},
   "source": [
    "## Data Prepration and Modelling"
   ]
  },
  {
   "cell_type": "markdown",
   "id": "281e2f53",
   "metadata": {},
   "source": [
    "### Evaluation strategy:"
   ]
  },
  {
   "cell_type": "markdown",
   "id": "2425a04d",
   "metadata": {},
   "source": [
    "The model performance are evaluated by using the accuracy score. To obtain robust results, a stratified cross validation (to maintain the proportions of labels) is applied. "
   ]
  },
  {
   "cell_type": "code",
   "execution_count": 23,
   "id": "cd70b3ce",
   "metadata": {},
   "outputs": [],
   "source": [
    "strat_cv_folds = StratifiedKFold(n_splits = 5, shuffle = True, random_state = 69)"
   ]
  },
  {
   "cell_type": "code",
   "execution_count": 24,
   "id": "0050842b",
   "metadata": {},
   "outputs": [],
   "source": [
    "def cv_model_accuracy(model, X = X_train, y = y_train):\n",
    "    cv_acc = cross_val_score(model, X, y, cv = strat_cv_folds, scoring = \"accuracy\")\n",
    "    return cv_acc"
   ]
  },
  {
   "cell_type": "markdown",
   "id": "a1145475",
   "metadata": {},
   "source": [
    "### K-Nearest Neighbors"
   ]
  },
  {
   "cell_type": "markdown",
   "id": "67f298c3",
   "metadata": {},
   "source": [
    "The first model is a K-Nearest Neighbors classifier with the default number of neighbors (5):"
   ]
  },
  {
   "cell_type": "code",
   "execution_count": 25,
   "id": "f746c199",
   "metadata": {},
   "outputs": [],
   "source": [
    "k_neighs = KNeighborsClassifier(n_neighbors = 5, n_jobs = -1)"
   ]
  },
  {
   "cell_type": "code",
   "execution_count": 26,
   "id": "713369ee",
   "metadata": {},
   "outputs": [
    {
     "data": {
      "text/plain": [
       "0.9666428571428571"
      ]
     },
     "execution_count": 26,
     "metadata": {},
     "output_type": "execute_result"
    }
   ],
   "source": [
    "cv_model_accuracy(k_neighs).mean()"
   ]
  },
  {
   "cell_type": "markdown",
   "id": "78862c18",
   "metadata": {},
   "source": [
    "Quite high accuracy for a simple model. Could be a sign of overfitting. "
   ]
  },
  {
   "cell_type": "markdown",
   "id": "d9e7190d",
   "metadata": {},
   "source": [
    "### Support Vector Classifier"
   ]
  },
  {
   "cell_type": "markdown",
   "id": "66cb6a5b",
   "metadata": {},
   "source": [
    "The next model is \"naked\" support vector classifier:"
   ]
  },
  {
   "cell_type": "code",
   "execution_count": 32,
   "id": "5c0607b4",
   "metadata": {},
   "outputs": [],
   "source": [
    "sv_classifier = SVC(random_state = 69, max_iter = 100000)"
   ]
  },
  {
   "cell_type": "code",
   "execution_count": 33,
   "id": "6970aa9c",
   "metadata": {},
   "outputs": [
    {
     "data": {
      "text/plain": [
       "0.9757380952380952"
      ]
     },
     "execution_count": 33,
     "metadata": {},
     "output_type": "execute_result"
    }
   ],
   "source": [
    "cv_model_accuracy(sv_classifier).mean()"
   ]
  },
  {
   "cell_type": "markdown",
   "id": "00c63e56",
   "metadata": {},
   "source": [
    "See comments on the K-Neighbors Classifier."
   ]
  },
  {
   "cell_type": "markdown",
   "id": "208bb7d3",
   "metadata": {},
   "source": [
    "### Decision Tree Classifier"
   ]
  },
  {
   "cell_type": "markdown",
   "id": "82d33139",
   "metadata": {},
   "source": [
    "After using linear models, tree-based models are examined. The first one is a simple Decision Tree Classifier: "
   ]
  },
  {
   "cell_type": "code",
   "execution_count": 34,
   "id": "9d9a79a0",
   "metadata": {},
   "outputs": [],
   "source": [
    "dec_tree = DecisionTreeClassifier(random_state = 69)"
   ]
  },
  {
   "cell_type": "code",
   "execution_count": 35,
   "id": "0dda1079",
   "metadata": {},
   "outputs": [
    {
     "data": {
      "text/plain": [
       "0.8533571428571429"
      ]
     },
     "execution_count": 35,
     "metadata": {},
     "output_type": "execute_result"
    }
   ],
   "source": [
    "cv_model_accuracy(dec_tree).mean()"
   ]
  },
  {
   "cell_type": "markdown",
   "id": "3d0a77a7",
   "metadata": {},
   "source": [
    "The results indicates that this Decision Tree model could be less influenced by overfitting (relative to the first two models). "
   ]
  },
  {
   "cell_type": "markdown",
   "id": "b08c7486",
   "metadata": {},
   "source": [
    "### Random Forest Classifier"
   ]
  },
  {
   "cell_type": "markdown",
   "id": "24c56c7c",
   "metadata": {},
   "source": [
    "Following the Decision Tree, a Random Forest Classifier is implemented:"
   ]
  },
  {
   "cell_type": "code",
   "execution_count": 36,
   "id": "c72efe98",
   "metadata": {},
   "outputs": [],
   "source": [
    "rnd_forest = RandomForestClassifier(random_state = 69, n_jobs = -1)"
   ]
  },
  {
   "cell_type": "code",
   "execution_count": 37,
   "id": "520da392",
   "metadata": {},
   "outputs": [],
   "source": [
    "cv_rnd_forest = cv_model_accuracy(rnd_forest)"
   ]
  },
  {
   "cell_type": "code",
   "execution_count": 38,
   "id": "d31be837",
   "metadata": {},
   "outputs": [
    {
     "data": {
      "text/plain": [
       "0.9636428571428572"
      ]
     },
     "execution_count": 38,
     "metadata": {},
     "output_type": "execute_result"
    }
   ],
   "source": [
    "cv_rnd_forest.mean()"
   ]
  },
  {
   "cell_type": "markdown",
   "id": "fcebd32e",
   "metadata": {},
   "source": [
    "See comments on the K-Neighbors Classifer."
   ]
  },
  {
   "cell_type": "markdown",
   "id": "896634c2",
   "metadata": {},
   "source": [
    "Since the Decision Tree Classifier's results reflect the lowest probability of overfitting, I will the model to make predictions based on the test dataset. "
   ]
  },
  {
   "cell_type": "code",
   "execution_count": 39,
   "id": "60e0fa7c",
   "metadata": {},
   "outputs": [],
   "source": [
    "dec_tree_fitted = DecisionTreeClassifier(random_state = 69).fit(X_train, y_train)"
   ]
  },
  {
   "cell_type": "code",
   "execution_count": 40,
   "id": "07b4db1f",
   "metadata": {},
   "outputs": [],
   "source": [
    "dec_tree_pred = dec_tree_fitted.predict(X_test)"
   ]
  },
  {
   "cell_type": "markdown",
   "id": "c89286a5",
   "metadata": {},
   "source": [
    "*Additionally, predictions are generated using the Random Forest Classifier (for comparison):*"
   ]
  },
  {
   "cell_type": "code",
   "execution_count": 44,
   "id": "5b80ad12",
   "metadata": {},
   "outputs": [],
   "source": [
    "rnd_forest_fitted = RandomForestClassifier(random_state = 69, n_jobs = -1).fit(X_train, y_train)"
   ]
  },
  {
   "cell_type": "code",
   "execution_count": 45,
   "id": "37c57ce2",
   "metadata": {},
   "outputs": [],
   "source": [
    "rnd_forest_pred = rnd_forest_fitted.predict(X_test)"
   ]
  },
  {
   "cell_type": "code",
   "execution_count": null,
   "id": "9e1d3d5c",
   "metadata": {},
   "outputs": [],
   "source": []
  },
  {
   "cell_type": "markdown",
   "id": "9548f7be",
   "metadata": {},
   "source": [
    "## Visualize digits contained in the test dataset"
   ]
  },
  {
   "cell_type": "markdown",
   "id": "9f2aaa3e",
   "metadata": {},
   "source": [
    "The first nine digits are visualized:"
   ]
  },
  {
   "cell_type": "code",
   "execution_count": 76,
   "id": "e8faa1f6",
   "metadata": {
    "scrolled": true
   },
   "outputs": [
    {
     "data": {
      "image/png": "[encoded data removed]",
      "text/plain": [
       "<Figure size 864x288 with 18 Axes>"
      ]
     },
     "metadata": {
      "needs_background": "light"
     },
     "output_type": "display_data"
    }
   ],
   "source": [
    "fig, axes = plt.subplots(nrows = 2, ncols = 9, figsize = (12, 4), sharey = True)\n",
    "i = 0\n",
    "row = 0\n",
    "\n",
    "for col in range(9):\n",
    "    digits_pixels = np.array(X_test.iloc[i, :]).reshape(28, 28)\n",
    "    axes[row][col].imshow(digits_pixels, cmap = \"Reds\")\n",
    "    axes[row][col].get_xaxis().set_visible(False)\n",
    "    axes[row][col].get_yaxis().set_visible(False)\n",
    "    i += 1\n",
    "    \n",
    "i = 1\n",
    "row = 1\n",
    "\n",
    "for col in range(9):\n",
    "    digits_pixels = np.array(X_test.iloc[-i, :]).reshape(28, 28)\n",
    "    axes[row][col].imshow(digits_pixels, cmap = \"Reds\")\n",
    "    axes[row][col].get_xaxis().set_visible(False)\n",
    "    axes[row][col].get_yaxis().set_visible(False)\n",
    "    i += 1\n",
    "\n",
    "plt.show()"
   ]
  },
  {
   "cell_type": "code",
   "execution_count": 73,
   "id": "7e3b82f2",
   "metadata": {},
   "outputs": [],
   "source": [
    "# Alternative viz:\n",
    "\n",
    "#fig, axes = plt.subplots(nrows = 3, ncols = 3, figsize = (4, 4), sharey = True, sharex = True)\n",
    "#i = 0\n",
    "\n",
    "#for col in range(3):\n",
    "#    for row in range(3):\n",
    "#        digits_pixels = np.array(X_test.iloc[i, :]).reshape(28, 28)\n",
    "#        axes[row][col].imshow(digits_pixels, cmap = \"Reds\")\n",
    "#        axes[row][col].get_xaxis().set_visible(False)\n",
    "#        axes[row][col].get_yaxis().set_visible(False)\n",
    "#        i += 1\n",
    "#plt.show()"
   ]
  },
  {
   "cell_type": "markdown",
   "id": "43e9d7ef",
   "metadata": {},
   "source": [
    "Store the labels manually in a list:"
   ]
  },
  {
   "cell_type": "code",
   "execution_count": 71,
   "id": "3f71490b",
   "metadata": {},
   "outputs": [],
   "source": [
    "first_test_digits_labels = [2, 0, 9, 0, 3, 7, 0, 3, 0]"
   ]
  },
  {
   "cell_type": "code",
   "execution_count": 77,
   "id": "0cc03aaf",
   "metadata": {},
   "outputs": [],
   "source": [
    "# I know: some of the digits are not really readable. However, I assume to know the correct answer.\n",
    "\n",
    "last_test_digits_labels = [2, 9, 3, 1, 9, 7, 9, 1, 6]"
   ]
  },
  {
   "cell_type": "markdown",
   "id": "cb2e6a25",
   "metadata": {},
   "source": [
    "Next, the digits are compared with the predictions:"
   ]
  },
  {
   "cell_type": "code",
   "execution_count": 87,
   "id": "aa260e8d",
   "metadata": {},
   "outputs": [
    {
     "name": "stdout",
     "output_type": "stream",
     "text": [
      "[2 0 9 9 9 9 0 3 0]\n",
      "[2 9 3 7 9 7 0 1 8]\n"
     ]
    }
   ],
   "source": [
    "print(dec_tree_pred[0:9])\n",
    "print(dec_tree_pred[:-10:-1])"
   ]
  },
  {
   "cell_type": "code",
   "execution_count": 93,
   "id": "384ab6fc",
   "metadata": {},
   "outputs": [],
   "source": [
    "dec_tree_first_digits_correct = dec_tree_pred[0:9] == first_test_digits_labels\n",
    "dec_tree_last_digits_correct = dec_tree_pred[:-10:-1] == last_test_digits_labels"
   ]
  },
  {
   "cell_type": "code",
   "execution_count": 95,
   "id": "4c0e9fc2",
   "metadata": {},
   "outputs": [
    {
     "name": "stdout",
     "output_type": "stream",
     "text": [
      "The decision tree got 6 out of the first 9 digits correct\n",
      "The decision tree got 6 out of the last 9 digits correct\n"
     ]
    }
   ],
   "source": [
    "print(f'The decision tree got {dec_tree_first_digits_correct.sum()} out of the first 9 digits correct')\n",
    "print(f'The decision tree got {dec_tree_last_digits_correct.sum()} out of the last 9 digits correct')"
   ]
  },
  {
   "cell_type": "code",
   "execution_count": 88,
   "id": "0936bd26",
   "metadata": {},
   "outputs": [
    {
     "name": "stdout",
     "output_type": "stream",
     "text": [
      "[2 0 9 9 3 7 0 3 0]\n",
      "[2 9 3 7 9 7 9 1 6]\n"
     ]
    }
   ],
   "source": [
    "print(rnd_forest_pred[0:9])\n",
    "print(rnd_forest_pred[:-10:-1])"
   ]
  },
  {
   "cell_type": "code",
   "execution_count": 96,
   "id": "8a7db09a",
   "metadata": {},
   "outputs": [],
   "source": [
    "rnd_forest_first_digits_correct = rnd_forest_pred[0:9] == first_test_digits_labels\n",
    "rnd_forest_last_digits_correct = rnd_forest_pred[:-10:-1] == last_test_digits_labels"
   ]
  },
  {
   "cell_type": "code",
   "execution_count": 97,
   "id": "e85210d6",
   "metadata": {},
   "outputs": [
    {
     "name": "stdout",
     "output_type": "stream",
     "text": [
      "The random forest got 8 out of the first 9 digits correct\n",
      "The random forest got 8 out of the last 9 digits correct\n"
     ]
    }
   ],
   "source": [
    "print(f'The random forest got {rnd_forest_first_digits_correct.sum()} out of the first 9 digits correct')\n",
    "print(f'The random forest got {rnd_forest_last_digits_correct.sum()} out of the last 9 digits correct')"
   ]
  },
  {
   "cell_type": "markdown",
   "id": "da83779c",
   "metadata": {},
   "source": [
    "It seems that the Random Forest Classifier is the better choice for predicting (recognizing) the digits in this particular dataset. Hence, I will predict the digits using the Random Forest and submit the results. "
   ]
  },
  {
   "cell_type": "markdown",
   "id": "121dbb9e",
   "metadata": {},
   "source": [
    "## Prepare submission:"
   ]
  },
  {
   "cell_type": "code",
   "execution_count": 98,
   "id": "22407542",
   "metadata": {},
   "outputs": [],
   "source": [
    "sample_sub = pd.read_csv(\"sample_submission.csv\", usecols = [0])"
   ]
  },
  {
   "cell_type": "code",
   "execution_count": 99,
   "id": "5c343e39",
   "metadata": {},
   "outputs": [],
   "source": [
    "sample_sub[\"Label\"] = rnd_forest_pred"
   ]
  },
  {
   "cell_type": "code",
   "execution_count": 100,
   "id": "c690217d",
   "metadata": {},
   "outputs": [],
   "source": [
    "sample_sub.to_csv(\"digit_recognizer_submission.csv\", index = False)"
   ]
  }
 ],
 "metadata": {
  "kernelspec": {
   "display_name": "Python 3",
   "language": "python",
   "name": "python3"
  },
  "language_info": {
   "codemirror_mode": {
    "name": "ipython",
    "version": 3
   },
   "file_extension": ".py",
   "mimetype": "text/x-python",
   "name": "python",
   "nbconvert_exporter": "python",
   "pygments_lexer": "ipython3",
   "version": "3.8.8"
  }
 },
 "nbformat": 4,
 "nbformat_minor": 5
}
